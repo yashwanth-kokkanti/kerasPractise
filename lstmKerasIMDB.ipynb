{
  "nbformat": 4,
  "nbformat_minor": 0,
  "metadata": {
    "colab": {
      "name": "lstmKerasIMDB.ipynb",
      "provenance": [],
      "authorship_tag": "ABX9TyP8SmTsZHhnYJ54jj/sK0Eq",
      "include_colab_link": true
    },
    "kernelspec": {
      "name": "python3",
      "display_name": "Python 3"
    }
  },
  "cells": [
    {
      "cell_type": "markdown",
      "metadata": {
        "id": "view-in-github",
        "colab_type": "text"
      },
      "source": [
        "<a href=\"https://colab.research.google.com/github/yashwanth-kokkanti/kerasPractise/blob/main/lstmKerasIMDB.ipynb\" target=\"_parent\"><img src=\"https://colab.research.google.com/assets/colab-badge.svg\" alt=\"Open In Colab\"/></a>"
      ]
    },
    {
      "cell_type": "code",
      "metadata": {
        "id": "3j5u54jL_SaW"
      },
      "source": [
        "## Example to demonstrate LSTM Using Kerad IMDB dataset \n",
        "\n",
        "from tensorflow.keras.models import Sequential\n",
        "from tensorflow.keras.layers import Dense, LSTM, Embedding\n",
        "from tensorflow.keras.preprocessing import sequence\n",
        "from tensorflow.keras.datasets import imdb\n",
        "\n",
        "import numpy as np"
      ],
      "execution_count": null,
      "outputs": []
    },
    {
      "cell_type": "code",
      "metadata": {
        "id": "qijqhNzd_rfe"
      },
      "source": [
        "## Load the data with top 10000 words \n",
        "\n",
        "top_words = 10000\n",
        "\n",
        "(x_train, y_train), (x_test, y_test)  = imdb.load_data(num_words=top_words)\n",
        "print (x_train.shape, y_train.shape, x_test.shape,  y_test.shape)"
      ],
      "execution_count": null,
      "outputs": []
    },
    {
      "cell_type": "code",
      "metadata": {
        "id": "lbvuuq5tAICS"
      },
      "source": [
        "## Explore Data\n",
        "\n",
        "data = np.concatenate((x_train, x_test), axis=0)\n",
        "targets = np.concatenate((y_train, y_test), axis=0)\n",
        "\n",
        "print (\"Classes : \", np.unique(targets))\n",
        "print (\"Number of uniques words : \", len(np.unique(np.hstack(data))))\n",
        "\n",
        "length = [len(i) for i in data]\n",
        "\n",
        "print (\"Average Review LEngth : \", np.mean(length))\n",
        "print (\"Standard Deviation :  \", round(np.std(length)))"
      ],
      "execution_count": null,
      "outputs": []
    },
    {
      "cell_type": "code",
      "metadata": {
        "id": "Y2C2El7HBAVH"
      },
      "source": [
        "print (\"Clases : \", targets[0])\n",
        "print (data[0])"
      ],
      "execution_count": null,
      "outputs": []
    },
    {
      "cell_type": "code",
      "metadata": {
        "id": "I7-4NSmrBFkn"
      },
      "source": [
        "## PRint First Movive review \n",
        "\n",
        "index = imdb.get_word_index()\n",
        "reverse_index = dict([(value, key) for (key, value) in index.items()])\n",
        "decoded = ' '.join([reverse_index.get(i - 3, 'a') for i in data[0]])\n",
        "\n",
        "print (decoded )"
      ],
      "execution_count": null,
      "outputs": []
    },
    {
      "cell_type": "code",
      "metadata": {
        "id": "pkOjWJ-7B3MO"
      },
      "source": [
        "print (index)"
      ],
      "execution_count": null,
      "outputs": []
    },
    {
      "cell_type": "code",
      "metadata": {
        "id": "NyLLk5FZB9SK"
      },
      "source": [
        "max_review_length = 500\n",
        "\n",
        "x_train = sequence.pad_sequences(x_train, maxlen=max_review_length)\n",
        "x_test = sequence.pad_sequences(x_test, maxlen=max_review_length)"
      ],
      "execution_count": null,
      "outputs": []
    },
    {
      "cell_type": "code",
      "metadata": {
        "id": "ReBc__3SCQ0x"
      },
      "source": [
        "model = Sequential()\n",
        "model.add(Embedding(top_words, 32, input_length=max_review_length))\n",
        "model.add(LSTM(100))\n",
        "model.add(Dense(1, activation='sigmoid'))\n",
        "print (model.summary())"
      ],
      "execution_count": null,
      "outputs": []
    },
    {
      "cell_type": "code",
      "metadata": {
        "id": "jlQqLSfZCrB9"
      },
      "source": [
        "model.compile(loss='binary_crossentropy', optimizer='adam', metrics=['accuracy'])\n"
      ],
      "execution_count": null,
      "outputs": []
    },
    {
      "cell_type": "code",
      "metadata": {
        "id": "nqSQOK9YDDgG"
      },
      "source": [
        "model.fit(x_train, y_train, validation_data=(x_test, y_test), epochs=3, batch_size=4)"
      ],
      "execution_count": null,
      "outputs": []
    },
    {
      "cell_type": "code",
      "metadata": {
        "id": "B5zZMUvgDPiH"
      },
      "source": [
        "loss, accuracy = model.evaluate(x_test, y_test, verbose=0)\n",
        "\n",
        "print (\"Loss : \", loss, \" : Accuracy : \", accuracy*100)\n"
      ],
      "execution_count": null,
      "outputs": []
    },
    {
      "cell_type": "code",
      "metadata": {
        "id": "Ekw9CZjZJjrV"
      },
      "source": [
        "pred = model.predict(x_test)\n",
        "\n",
        "for i in range (200):\n",
        "  print (\"Predicted : \", pred[i] , \" : Expected - \", y_test[i])"
      ],
      "execution_count": null,
      "outputs": []
    },
    {
      "cell_type": "code",
      "metadata": {
        "id": "hkWL71NtJz88"
      },
      "source": [
        ""
      ],
      "execution_count": null,
      "outputs": []
    }
  ]
}