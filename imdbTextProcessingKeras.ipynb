{
  "nbformat": 4,
  "nbformat_minor": 0,
  "metadata": {
    "colab": {
      "name": "imdbTextProcessingKeras.ipynb",
      "provenance": [],
      "authorship_tag": "ABX9TyMBqmSPMt40Obe4fSZ1iwo2",
      "include_colab_link": true
    },
    "kernelspec": {
      "name": "python3",
      "display_name": "Python 3"
    }
  },
  "cells": [
    {
      "cell_type": "markdown",
      "metadata": {
        "id": "view-in-github",
        "colab_type": "text"
      },
      "source": [
        "<a href=\"https://colab.research.google.com/github/yashwanth-kokkanti/kerasPractise/blob/main/imdbTextProcessingKeras.ipynb\" target=\"_parent\"><img src=\"https://colab.research.google.com/assets/colab-badge.svg\" alt=\"Open In Colab\"/></a>"
      ]
    },
    {
      "cell_type": "code",
      "metadata": {
        "id": "AIxbBTei4CIO"
      },
      "source": [
        "### This Notebook demonstrates Text Classification using Keras \r\n",
        "\r\n"
      ],
      "execution_count": 1,
      "outputs": []
    },
    {
      "cell_type": "code",
      "metadata": {
        "id": "s4eFkFgd4vXp"
      },
      "source": [
        "import tensorflow as tf\r\n",
        "import numpy as np"
      ],
      "execution_count": 2,
      "outputs": []
    },
    {
      "cell_type": "code",
      "metadata": {
        "colab": {
          "base_uri": "https://localhost:8080/"
        },
        "id": "8310jWX145wz",
        "outputId": "d5b85aed-5fa3-4323-e58e-1a53e1ff8b98"
      },
      "source": [
        "!curl -O https://ai.stanford.edu/~amaas/data/sentiment/aclImdb_v1.tar.gz\r\n",
        "!tar -xf aclImdb_v1.tar.gz"
      ],
      "execution_count": 3,
      "outputs": [
        {
          "output_type": "stream",
          "text": [
            "  % Total    % Received % Xferd  Average Speed   Time    Time     Time  Current\n",
            "                                 Dload  Upload   Total   Spent    Left  Speed\n",
            "100 80.2M  100 80.2M    0     0  17.8M      0  0:00:04  0:00:04 --:--:-- 17.9M\n"
          ],
          "name": "stdout"
        }
      ]
    },
    {
      "cell_type": "code",
      "metadata": {
        "colab": {
          "base_uri": "https://localhost:8080/"
        },
        "id": "tmE9Z2Fx5nd6",
        "outputId": "b20e5901-d316-4a76-cb3d-89048188d81f"
      },
      "source": [
        "!ls aclImdb"
      ],
      "execution_count": 4,
      "outputs": [
        {
          "output_type": "stream",
          "text": [
            "imdbEr.txt  imdb.vocab\tREADME\ttest  train\n"
          ],
          "name": "stdout"
        }
      ]
    },
    {
      "cell_type": "code",
      "metadata": {
        "id": "9DHuG2V85zjF"
      },
      "source": [
        "!rm -r aclImdb/train/unsup"
      ],
      "execution_count": 5,
      "outputs": []
    },
    {
      "cell_type": "code",
      "metadata": {
        "colab": {
          "base_uri": "https://localhost:8080/"
        },
        "id": "lZKoxJCW5-Ze",
        "outputId": "d4cf9887-bd80-4915-a47d-21771b24e472"
      },
      "source": [
        "batch_size = 32\r\n",
        "\r\n",
        "raw_train_ds = tf.keras.preprocessing.text_dataset_from_directory(\r\n",
        "    \"aclImdb/train\",\r\n",
        "    batch_size=batch_size,\r\n",
        "    validation_split=0.2,\r\n",
        "    subset='training',\r\n",
        "    seed=1337,\r\n",
        ")\r\n",
        "\r\n",
        "raw_val_ds = tf.keras.preprocessing.text_dataset_from_directory(\r\n",
        "    \"aclImdb/train\",\r\n",
        "    batch_size=batch_size,\r\n",
        "    validation_split=0.2,\r\n",
        "    subset=\"validation\",\r\n",
        "    seed=1337,\r\n",
        ")\r\n",
        "\r\n",
        "raw_test_ds = tf.keras.preprocessing.text_dataset_from_directory(\r\n",
        "    \"aclImdb/test\", batch_size=batch_size\r\n",
        ")\r\n",
        "\r\n",
        "\r\n",
        "print(\r\n",
        "    \"Number of batches in raw_train_ds: %d\"\r\n",
        "    % tf.data.experimental.cardinality(raw_train_ds)\r\n",
        ")\r\n",
        "print(\r\n",
        "    \"Number of batches in raw_val_ds: %d\" % tf.data.experimental.cardinality(raw_val_ds)\r\n",
        ")\r\n",
        "print(\r\n",
        "    \"Number of batches in raw_test_ds: %d\"\r\n",
        "    % tf.data.experimental.cardinality(raw_test_ds)\r\n",
        ")"
      ],
      "execution_count": 7,
      "outputs": [
        {
          "output_type": "stream",
          "text": [
            "Found 25000 files belonging to 2 classes.\n",
            "Using 20000 files for training.\n",
            "Found 25000 files belonging to 2 classes.\n",
            "Using 5000 files for validation.\n",
            "Found 25000 files belonging to 2 classes.\n",
            "Number of batches in raw_train_ds: 625\n",
            "Number of batches in raw_val_ds: 157\n",
            "Number of batches in raw_test_ds: 782\n"
          ],
          "name": "stdout"
        }
      ]
    },
    {
      "cell_type": "code",
      "metadata": {
        "colab": {
          "base_uri": "https://localhost:8080/"
        },
        "id": "tbPrs-448WCh",
        "outputId": "aa552e7e-fa0c-4116-8a46-1168681e5b2c"
      },
      "source": [
        "## Lets preview some examples \r\n",
        "\r\n",
        "for text_batch, label_batch in raw_train_ds.take(1):\r\n",
        "  for i in range(5):\r\n",
        "    print (text_batch.numpy()[i])\r\n",
        "    print (label_batch.numpy()[i])"
      ],
      "execution_count": 9,
      "outputs": [
        {
          "output_type": "stream",
          "text": [
            "b'I\\'ve seen tons of science fiction from the 70s; some horrendously bad, and others thought provoking and truly frightening. Soylent Green fits into the latter category. Yes, at times it\\'s a little campy, and yes, the furniture is good for a giggle or two, but some of the film seems awfully prescient. Here we have a film, 9 years before Blade Runner, that dares to imagine the future as somthing dark, scary, and nihilistic. Both Charlton Heston and Edward G. Robinson fare far better in this than The Ten Commandments, and Robinson\\'s assisted-suicide scene is creepily prescient of Kevorkian and his ilk. Some of the attitudes are dated (can you imagine a filmmaker getting away with the \"women as furniture\" concept in our oh-so-politically-correct-90s?), but it\\'s rare to find a film from the Me Decade that actually can make you think. This is one I\\'d love to see on the big screen, because even in a widescreen presentation, I don\\'t think the overall scope of this film would receive its due. Check it out.'\n",
            "1\n",
            "b'First than anything, I\\'m not going to praise I\\xc3\\xb1arritu\\'s short film, even I\\'m Mexican and proud of his success in mainstream Hollywood.<br /><br />In another hand, I see most of the reviews focuses on their favorite (and not so) short films; but we are forgetting that there is a subtle bottom line that circles the whole compilation, and maybe it will not be so pleasant for American people. (Even if that was not the main purpose of the producers) <br /><br />What i\\'m talking about is that most of the short films does not show the suffering that WASP people went through because the terrorist attack on September 11th, but the suffering of the Other people.<br /><br />Do you need proofs about what i\\'m saying? Look, in the Bosnia short film, the message is: \"You cry because of the people who died in the Towers, but we (The Others = East Europeans) are crying long ago for the crimes committed against our women and nobody pay attention to us like the whole world has done to you\".<br /><br />Even though the Burkina Fasso story is more in comedy, there is a the same thought: \"You are angry because Osama Bin Laden punched you in an evil way, but we (The Others = Africans) should be more angry, because our people is dying of hunger, poverty and AIDS long time ago, and nobody pay attention to us like the whole world has done to you\".<br /><br />Look now at the Sean Penn short: The fall of the Twin Towers makes happy to a lonely (and alienated) man. So the message is that the Power and the Greed (symbolized by the Towers) must fall for letting the people see the sun rise and the flowers blossom? It is remarkable that this terrible bottom line has been proposed by an American. There is so much irony in this short film that it is close to be subversive.<br /><br />Well, the Ken Loach (very know because his anti-capitalism ideology) is much more clearly and shameless in going straight to the point: \"You are angry because your country has been attacked by evil forces, but we (The Others = Latin Americans) suffered at a similar date something worst, and nobody remembers our grief as the whole world has done to you\".<br /><br />It is like if the creative of this project wanted to say to Americans: \"You see now, America? You are not the only that have become victim of the world violence, you are not alone in your pain and by the way, we (the Others = the Non Americans) have been suffering a lot more than you from long time ago; so, we are in solidarity with you in your pain... and by the way, we are sorry because you have had some taste of your own medicine\" Only the Mexican and the French short films showed some compassion and sympathy for American people; the others are like a slap on the face for the American State, that is not equal to American People.'\n",
            "1\n",
            "b'Blood Castle (aka Scream of the Demon Lover, Altar of Blood, Ivanna--the best, but least exploitation cinema-sounding title, and so on) is a very traditional Gothic Romance film. That means that it has big, creepy castles, a headstrong young woman, a mysterious older man, hints of horror and the supernatural, and romance elements in the contemporary sense of that genre term. It also means that it is very deliberately paced, and that the film will work best for horror mavens who are big fans of understatement. If you love films like Robert Wise\\'s The Haunting (1963), but you also have a taste for late 1960s/early 1970s Spanish and Italian horror, you may love Blood Castle, as well.<br /><br />Baron Janos Dalmar (Carlos Quiney) lives in a large castle on the outskirts of a traditional, unspecified European village. The locals fear him because legend has it that whenever he beds a woman, she soon after ends up dead--the consensus is that he sets his ferocious dogs on them. This is quite a problem because the Baron has a very healthy appetite for women. At the beginning of the film, yet another woman has turned up dead and mutilated.<br /><br />Meanwhile, Dr. Ivanna Rakowsky (Erna Sch\\xc3\\xbcrer) has appeared in the center of the village, asking to be taken to Baron Dalmar\\'s castle. She\\'s an out-of-towner who has been hired by the Baron for her expertise in chemistry. Of course, no one wants to go near the castle. Finally, Ivanna finds a shady individual (who becomes even shadier) to take her. Once there, an odd woman who lives in the castle, Olga (Cristiana Galloni), rejects Ivanna and says that she shouldn\\'t be there since she\\'s a woman. Baron Dalmar vacillates over whether she should stay. She ends up staying, but somewhat reluctantly. The Baron has hired her to try to reverse the effects of severe burns, which the Baron\\'s brother, Igor, is suffering from.<br /><br />Unfortunately, the Baron\\'s brother appears to be just a lump of decomposing flesh in a vat of bizarre, blackish liquid. And furthermore, Ivanna is having bizarre, hallucinatory dreams. Just what is going on at the castle? Is the Baron responsible for the crimes? Is he insane? <br /><br />I wanted to like Blood Castle more than I did. As I mentioned, the film is very deliberate in its pacing, and most of it is very understated. I can go either way on material like that. I don\\'t care for The Haunting (yes, I\\'m in a very small minority there), but I\\'m a big fan of 1960s and 1970s European horror. One of my favorite directors is Mario Bava. I also love Dario Argento\\'s work from that period. But occasionally, Blood Castle moved a bit too slow for me at times. There are large chunks that amount to scenes of not very exciting talking alternated with scenes of Ivanna slowly walking the corridors of the castle.<br /><br />But the atmosphere of the film is decent. Director Jos\\xc3\\xa9 Luis Merino managed more than passable sets and locations, and they\\'re shot fairly well by Emanuele Di Cola. However, Blood Castle feels relatively low budget, and this is a Roger Corman-produced film, after all (which usually means a low-budget, though often surprisingly high quality \"quickie\"). So while there is a hint of the lushness of Bava\\'s colors and complex set decoration, everything is much more minimalist. Of course, it doesn\\'t help that the Retromedia print I watched looks like a 30-year old photograph that\\'s been left out in the sun too long. It appears \"washed out\", with compromised contrast.<br /><br />Still, Merino and Di Cola occasionally set up fantastic visuals. For example, a scene of Ivanna walking in a darkened hallway that\\'s shot from an exaggerated angle, and where an important plot element is revealed through shadows on a wall only. There are also a couple Ingmar Bergmanesque shots, where actors are exquisitely blocked to imply complex relationships, besides just being visually attractive and pulling your eye deep into the frame.<br /><br />The performances are fairly good, and the women--especially Sch\\xc3\\xbcrer--are very attractive. Merino exploits this fact by incorporating a decent amount of nudity. Sch\\xc3\\xbcrer went on to do a number of films that were as much soft corn porn as they were other genres, with English titles such as Sex Life in a Woman\\'s Prison (1974), Naked and Lustful (1974), Strip Nude for Your Killer (1975) and Erotic Exploits of a Sexy Seducer (1977). Blood Castle is much tamer, but in addition to the nudity, there are still mild scenes suggesting rape and bondage, and of course the scenes mixing sex and death.<br /><br />The primary attraction here, though, is probably the story, which is much a slow-burning romance as anything else. The horror elements, the mystery elements, and a somewhat unexpected twist near the end are bonuses, but in the end, Blood Castle is a love story, about a couple overcoming various difficulties and antagonisms (often with physical threats or harms) to be together.'\n",
            "1\n",
            "b\"I was talked into watching this movie by a friend who blubbered on about what a cute story this was.<br /><br />Yuck.<br /><br />I want my two hours back, as I could have done SO many more productive things with my time...like, for instance, twiddling my thumbs. I see nothing redeeming about this film at all, save for the eye-candy aspect of it...<br /><br />3/10 (and that's being generous)\"\n",
            "0\n",
            "b\"Michelle Rodriguez is the defining actress who could be the charging force for other actresses to look out for. She has the audacity to place herself in a rarely seen tough-girl role very early in her career (and pull it off), which is a feat that should be recognized. Although her later films pigeonhole her to that same role, this film was made for her ruggedness.<br /><br />Her character is a romanticized student/fighter/lover, struggling to overcome her disenchanted existence in the projects, which is a little overdone in film...but not by a girl. That aspect of this film isn't very original, but the story goes in depth when the heated relationships that this girl has to deal with come to a boil and her primal rage takes over.<br /><br />I haven't seen an actress take such an aggressive stance in movie-making yet, and I'm glad that she's getting that original twist out there in Hollywood. This film got a 7 from me because of the average story of ghetto youth, but it has such a great actress portraying a rarely-seen role in a minimal budget movie. Great work.\"\n",
            "1\n"
          ],
          "name": "stdout"
        }
      ]
    },
    {
      "cell_type": "code",
      "metadata": {
        "id": "F8MTo20f9MTS"
      },
      "source": [
        "## Preparing data -- Removing special characters etc \r\n",
        "\r\n",
        "from tensorflow.keras.layers.experimental.preprocessing import TextVectorization\r\n",
        "import string\r\n",
        "import re\r\n",
        "\r\n",
        "\r\n",
        "def custom_standardization(input_data):\r\n",
        "  lowercase = tf.strings.lower(input_data)\r\n",
        "  stripped_html = tf.strings.regex_replace(lowercase, \"<br />\", ' ')\r\n",
        "  return tf.strings.regex_replace(\r\n",
        "      stripped_html, '[%s]' % re.escape(string.punctuation), \"\"\r\n",
        "  )\r\n",
        "\r\n",
        "max_features = 20000\r\n",
        "embedding_dim = 128 \r\n",
        "sequence_length  = 500\r\n",
        "\r\n",
        "vectorize_layer = TextVectorization(\r\n",
        "    standardize = custom_standardization,\r\n",
        "    max_tokens = max_features,\r\n",
        "    output_mode = 'int',\r\n",
        "    output_sequence_length = sequence_length,\r\n",
        ")\r\n",
        "\r\n",
        "text_ds = raw_train_ds.map(lambda x, y: x)\r\n",
        "\r\n",
        "vectorize_layer.adapt(text_ds)"
      ],
      "execution_count": 12,
      "outputs": []
    },
    {
      "cell_type": "code",
      "metadata": {
        "id": "LFcfgmAaCcLH"
      },
      "source": [
        "## There are two options to vectorize Text data \r\n",
        "\r\n",
        "## 1. Way using Embedding layer \r\n",
        "\r\n",
        "text_input = tf.keras.Input(shape=(1, ), dtype=tf.string, name='text')\r\n",
        "\r\n",
        "x = vectorize_layer(text_input)\r\n",
        "x = tf.keras.layers.Embedding(max_features + 1, embedding_dim)(x)\r\n"
      ],
      "execution_count": 15,
      "outputs": []
    },
    {
      "cell_type": "code",
      "metadata": {
        "id": "mBFVoqjmCndH"
      },
      "source": [
        "## 2. Applying to Text data to obtain dataset of word indices\r\n",
        "\r\n",
        "def vectorize_text(text, label):\r\n",
        "  text = tf.expand_dims(text, -1)\r\n",
        "  return vectorize_layer(text), label\r\n",
        "\r\n",
        "## Vectorize Data \r\n",
        "train_ds = raw_train_ds.map(vectorize_text)\r\n",
        "val_ds = raw_val_ds.map(vectorize_text)\r\n",
        "test_ds = raw_test_ds.map(vectorize_text)\r\n",
        "\r\n",
        "\r\n",
        "\r\n",
        "# Do async prefetching / buffering of the data for best performance on GPU. ## Copied as it is from keras \r\n",
        "train_ds = train_ds.cache().prefetch(buffer_size=10)\r\n",
        "val_ds = val_ds.cache().prefetch(buffer_size=10)\r\n",
        "test_ds = test_ds.cache().prefetch(buffer_size=10)"
      ],
      "execution_count": 18,
      "outputs": []
    },
    {
      "cell_type": "code",
      "metadata": {
        "id": "FgWA8EuyFSBl"
      },
      "source": [
        "## Building Model\r\n",
        "\r\n",
        "from tensorflow.keras import layers \r\n",
        "\r\n",
        "## Integer input for Vocab indices \r\n",
        "inputs = tf.keras.Input(shape=(None, ), dtype='int64')\r\n",
        "\r\n",
        "## Next we add layer to map those vocab indices into a space of dimensionality \r\n",
        "x = layers.Embedding(max_features, embedding_dim)(inputs)\r\n",
        "x = layers.Dropout(0.5)(x)\r\n",
        "\r\n",
        "## Conv1D + global max pooling \r\n",
        "x = layers.Conv1D(128, 7, padding='valid', activation='relu', strides=3)(x)\r\n",
        "x = layers.Conv1D(128, 7, padding='valid', activation='relu', strides=3)(x)\r\n",
        "x = layers.GlobalMaxPooling1D()(x)\r\n",
        "\r\n",
        "## Adding A Vanilla hidden Layer \r\n",
        "x = layers.Dense(128, activation='relu')(x)\r\n",
        "x = layers.Dropout(0.5)(x)\r\n",
        "\r\n",
        "## Project onto a single output layer and squash it with Sigmoid \r\n",
        "predictions = layers.Dense(1, activation='sigmoid', name='predictions')(x)\r\n",
        "\r\n",
        "model = tf.keras.Model(inputs, predictions)\r\n",
        "\r\n",
        "model.compile(loss='binary_crossentropy', optimizer='adam', metrics=['accuracy'])"
      ],
      "execution_count": 21,
      "outputs": []
    },
    {
      "cell_type": "code",
      "metadata": {
        "colab": {
          "base_uri": "https://localhost:8080/"
        },
        "id": "gZgPjd4vHGZk",
        "outputId": "6022bec7-a4cd-4bab-f9e2-7feb9d0e6677"
      },
      "source": [
        "epochs = 3\r\n",
        "\r\n",
        "model.fit(train_ds, validation_data=val_ds, epochs=epochs)"
      ],
      "execution_count": 22,
      "outputs": [
        {
          "output_type": "stream",
          "text": [
            "Epoch 1/3\n",
            "625/625 [==============================] - 138s 219ms/step - loss: 0.6231 - accuracy: 0.5888 - val_loss: 0.3709 - val_accuracy: 0.8392\n",
            "Epoch 2/3\n",
            "625/625 [==============================] - 130s 208ms/step - loss: 0.2788 - accuracy: 0.8851 - val_loss: 0.3395 - val_accuracy: 0.8636\n",
            "Epoch 3/3\n",
            "625/625 [==============================] - 129s 206ms/step - loss: 0.1387 - accuracy: 0.9483 - val_loss: 0.3880 - val_accuracy: 0.8702\n"
          ],
          "name": "stdout"
        },
        {
          "output_type": "execute_result",
          "data": {
            "text/plain": [
              "<tensorflow.python.keras.callbacks.History at 0x7f24cf1246d8>"
            ]
          },
          "metadata": {
            "tags": []
          },
          "execution_count": 22
        }
      ]
    },
    {
      "cell_type": "code",
      "metadata": {
        "colab": {
          "base_uri": "https://localhost:8080/"
        },
        "id": "AEFfwdRxHUGI",
        "outputId": "adebefff-d748-4ca2-ea09-6034638b7e2e"
      },
      "source": [
        "## Evaluate the model on test set \r\n",
        "\r\n",
        "model.evaluate(test_ds)"
      ],
      "execution_count": 23,
      "outputs": [
        {
          "output_type": "stream",
          "text": [
            "782/782 [==============================] - 34s 43ms/step - loss: 0.4089 - accuracy: 0.8620\n"
          ],
          "name": "stdout"
        },
        {
          "output_type": "execute_result",
          "data": {
            "text/plain": [
              "[0.40894073247909546, 0.8620399832725525]"
            ]
          },
          "metadata": {
            "tags": []
          },
          "execution_count": 23
        }
      ]
    },
    {
      "cell_type": "code",
      "metadata": {
        "colab": {
          "base_uri": "https://localhost:8080/"
        },
        "id": "7KW4Ocl0I9u7",
        "outputId": "fd31ccb4-e324-447b-9ce1-b7b6fbefee77"
      },
      "source": [
        "## Make an end to end model capable of processing raw strings \r\n",
        "\r\n",
        "inputs = tf.keras.Input(shape=(1, ), dtype='string')\r\n",
        "\r\n",
        "indices = vectorize_layer(inputs)\r\n",
        "\r\n",
        "outputs = model(indices)\r\n",
        "\r\n",
        "end_to_end_model = tf.keras.Model(inputs, outputs)\r\n",
        "\r\n",
        "end_to_end_model.compile (loss='binary_crossentropy', optimizer='adam', metrics=['accuracy'])\r\n",
        "\r\n",
        "end_to_end_model.evaluate(raw_test_ds)"
      ],
      "execution_count": 25,
      "outputs": [
        {
          "output_type": "stream",
          "text": [
            "782/782 [==============================] - 37s 47ms/step - loss: 0.4001 - accuracy: 0.8626\n"
          ],
          "name": "stdout"
        },
        {
          "output_type": "execute_result",
          "data": {
            "text/plain": [
              "[0.4089408218860626, 0.8620399832725525]"
            ]
          },
          "metadata": {
            "tags": []
          },
          "execution_count": 25
        }
      ]
    },
    {
      "cell_type": "code",
      "metadata": {
        "id": "awmhtPJNKH5y"
      },
      "source": [
        ""
      ],
      "execution_count": null,
      "outputs": []
    }
  ]
}