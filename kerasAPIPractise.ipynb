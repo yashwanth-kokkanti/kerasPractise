{
  "nbformat": 4,
  "nbformat_minor": 0,
  "metadata": {
    "colab": {
      "name": "kerasAPIPractise.ipynb",
      "provenance": [],
      "authorship_tag": "ABX9TyMEw6zMFKRHWbnikQzNGz4M",
      "include_colab_link": true
    },
    "kernelspec": {
      "name": "python3",
      "display_name": "Python 3"
    }
  },
  "cells": [
    {
      "cell_type": "markdown",
      "metadata": {
        "id": "view-in-github",
        "colab_type": "text"
      },
      "source": [
        "<a href=\"https://colab.research.google.com/github/yashwanth-kokkanti/kerasPractise/blob/main/kerasAPIPractise.ipynb\" target=\"_parent\"><img src=\"https://colab.research.google.com/assets/colab-badge.svg\" alt=\"Open In Colab\"/></a>"
      ]
    },
    {
      "cell_type": "code",
      "metadata": {
        "id": "gTPRyKVDFAHP"
      },
      "source": [
        "## This Notebook is created to practise Keras API Practise "
      ],
      "execution_count": 1,
      "outputs": []
    },
    {
      "cell_type": "code",
      "metadata": {
        "colab": {
          "base_uri": "https://localhost:8080/"
        },
        "id": "cgHRmfCfFe0o",
        "outputId": "cafd9538-9422-4326-d7fb-f9c92733dc24"
      },
      "source": [
        "# Model Section \n",
        "\n",
        "# 1. Model groups layers into an object with training and inference features.\n",
        "\n",
        "import tensorflow as tf\n",
        "\n",
        "inputs = tf.keras.Input(shape=(3, ))\n",
        "x = tf.keras.layers.Dense(4, activation=tf.nn.relu)(inputs)\n",
        "outputs = tf.keras.layers.Dense(5, activation=tf.nn.softmax)(x)\n",
        "model = tf.keras.Model(inputs=inputs, outputs=outputs)\n",
        "model.summary()"
      ],
      "execution_count": 4,
      "outputs": [
        {
          "output_type": "stream",
          "text": [
            "Model: \"functional_1\"\n",
            "_________________________________________________________________\n",
            "Layer (type)                 Output Shape              Param #   \n",
            "=================================================================\n",
            "input_2 (InputLayer)         [(None, 3)]               0         \n",
            "_________________________________________________________________\n",
            "dense_1 (Dense)              (None, 4)                 16        \n",
            "_________________________________________________________________\n",
            "dense_2 (Dense)              (None, 5)                 25        \n",
            "=================================================================\n",
            "Total params: 41\n",
            "Trainable params: 41\n",
            "Non-trainable params: 0\n",
            "_________________________________________________________________\n"
          ],
          "name": "stdout"
        }
      ]
    },
    {
      "cell_type": "code",
      "metadata": {
        "id": "dMekO1YWGX46"
      },
      "source": [
        "## It Explains the Model with 3 Inputs, first hidden layer with 4 outputs (params = 4*3 + 4) and Final output layer with 5 outputs"
      ],
      "execution_count": 5,
      "outputs": []
    },
    {
      "cell_type": "code",
      "metadata": {
        "colab": {
          "base_uri": "https://localhost:8080/"
        },
        "id": "vm26u0l-OEzq",
        "outputId": "f2f00ad4-cb5a-48ea-a50a-557c7478f219"
      },
      "source": [
        "########### Sequential Class #############\n",
        "\n",
        "\n",
        "model = tf.keras.Sequential()\n",
        "model.add (tf.keras.layers.Dense(8, input_shape=(16,))) ## This Represents . there are 16 Inputs and First hidden layer with 8 Outputs \n",
        "model.add(tf.keras.layers.Dense(8, ))\n",
        "\n",
        "### Above two lines are identical to as below \n",
        "\n",
        "#  model = tf.keras.Sequential()\n",
        "#  model.add(tf.keras.Input(shape=(16,)))\n",
        "#  model.add(tf.keras.layers.Dense(8))\n",
        "\n",
        "model.summary()\n"
      ],
      "execution_count": 6,
      "outputs": [
        {
          "output_type": "stream",
          "text": [
            "Model: \"sequential\"\n",
            "_________________________________________________________________\n",
            "Layer (type)                 Output Shape              Param #   \n",
            "=================================================================\n",
            "dense_3 (Dense)              (None, 8)                 136       \n",
            "_________________________________________________________________\n",
            "dense_4 (Dense)              (None, 8)                 72        \n",
            "=================================================================\n",
            "Total params: 208\n",
            "Trainable params: 208\n",
            "Non-trainable params: 0\n",
            "_________________________________________________________________\n"
          ],
          "name": "stdout"
        }
      ]
    },
    {
      "cell_type": "code",
      "metadata": {
        "id": "AZJbAbInSB99"
      },
      "source": [
        "### Model Serialzation \n",
        "\n",
        "#from tf.keras.models import load_model\n",
        "\n",
        "model.save('G:\\MachineLearning\\keras_Practise\\kerasModelsExample.h5')"
      ],
      "execution_count": 8,
      "outputs": []
    },
    {
      "cell_type": "code",
      "metadata": {
        "colab": {
          "base_uri": "https://localhost:8080/"
        },
        "id": "Q3yiXihXTugo",
        "outputId": "aad69767-6fa2-4f67-8298-46d713276bbd"
      },
      "source": [
        "md = tf.keras.models.load_model('G:\\MachineLearning\\keras_Practise\\kerasModelsExample.h5')"
      ],
      "execution_count": 11,
      "outputs": [
        {
          "output_type": "stream",
          "text": [
            "WARNING:tensorflow:No training configuration found in the save file, so the model was *not* compiled. Compile it manually.\n"
          ],
          "name": "stdout"
        }
      ]
    },
    {
      "cell_type": "code",
      "metadata": {
        "colab": {
          "base_uri": "https://localhost:8080/"
        },
        "id": "449F7m_wXMCN",
        "outputId": "41191c99-e24f-4c6f-d895-f09d30298583"
      },
      "source": [
        "md.summary()"
      ],
      "execution_count": 12,
      "outputs": [
        {
          "output_type": "stream",
          "text": [
            "Model: \"sequential\"\n",
            "_________________________________________________________________\n",
            "Layer (type)                 Output Shape              Param #   \n",
            "=================================================================\n",
            "dense_3 (Dense)              (None, 8)                 136       \n",
            "_________________________________________________________________\n",
            "dense_4 (Dense)              (None, 8)                 72        \n",
            "=================================================================\n",
            "Total params: 208\n",
            "Trainable params: 208\n",
            "Non-trainable params: 0\n",
            "_________________________________________________________________\n"
          ],
          "name": "stdout"
        }
      ]
    },
    {
      "cell_type": "code",
      "metadata": {
        "id": "kIu-CKk9Xl_o"
      },
      "source": [
        ""
      ],
      "execution_count": 14,
      "outputs": []
    },
    {
      "cell_type": "code",
      "metadata": {
        "colab": {
          "base_uri": "https://localhost:8080/"
        },
        "id": "nKvo9k_IXzA9",
        "outputId": "617f8aa2-b028-45ed-91c7-cba6e34c58b8"
      },
      "source": [
        "model.get_weights()"
      ],
      "execution_count": 15,
      "outputs": [
        {
          "output_type": "execute_result",
          "data": {
            "text/plain": [
              "[array([[ 0.33091652,  0.46893787,  0.11603546, -0.28176343, -0.24076939,\n",
              "          0.2581936 , -0.44736624,  0.27255487],\n",
              "        [-0.27746475,  0.21287286,  0.33323848, -0.40977466,  0.13411736,\n",
              "          0.46611738, -0.14357495, -0.38439822],\n",
              "        [-0.22971499,  0.09776604, -0.31273127, -0.03570008, -0.10308409,\n",
              "         -0.21100664,  0.37340045,  0.23456073],\n",
              "        [-0.2519437 , -0.2880342 ,  0.44402385,  0.34849656,  0.33596742,\n",
              "         -0.25370586, -0.08369458, -0.12620175],\n",
              "        [ 0.34450603, -0.2510512 ,  0.15257764, -0.27938974, -0.2885282 ,\n",
              "         -0.39046478,  0.30976272, -0.46078992],\n",
              "        [-0.11716259,  0.4984374 , -0.4969864 , -0.28227746, -0.08829522,\n",
              "          0.0356617 , -0.05889273, -0.2086842 ],\n",
              "        [-0.46189153,  0.07476211, -0.45562506, -0.09072292, -0.12660837,\n",
              "         -0.32129192,  0.2151097 ,  0.00992513],\n",
              "        [-0.30849123, -0.37062776, -0.14247346,  0.4083414 , -0.08422279,\n",
              "         -0.00152862, -0.32454455,  0.12519407],\n",
              "        [ 0.34270012, -0.07801318,  0.4281801 ,  0.12472498, -0.33880126,\n",
              "         -0.22303808, -0.13181567,  0.20638502],\n",
              "        [-0.40457594, -0.08157659, -0.3390559 ,  0.19093418, -0.43067086,\n",
              "         -0.32394624,  0.23903632, -0.19159675],\n",
              "        [ 0.07390165, -0.42527556,  0.14733052,  0.07680786, -0.15601325,\n",
              "          0.18393147,  0.33615553,  0.49378765],\n",
              "        [ 0.31272566,  0.02879488,  0.24134278,  0.12415218, -0.2063005 ,\n",
              "         -0.12462044,  0.4072709 ,  0.3025359 ],\n",
              "        [-0.3049276 , -0.29146957, -0.18005371,  0.30923223,  0.46647334,\n",
              "          0.46630657,  0.183043  , -0.22132635],\n",
              "        [-0.30081165,  0.1256969 ,  0.11702216, -0.38817656,  0.41925716,\n",
              "         -0.18308115, -0.17701054,  0.21278155],\n",
              "        [-0.48361814,  0.38820505, -0.20540845, -0.35395014,  0.14583755,\n",
              "         -0.3835678 ,  0.08283234,  0.23869634],\n",
              "        [-0.09976149,  0.37272847,  0.04858816, -0.13562238, -0.3639369 ,\n",
              "          0.32794118,  0.37206042, -0.17712617]], dtype=float32),\n",
              " array([0., 0., 0., 0., 0., 0., 0., 0.], dtype=float32),\n",
              " array([[ 0.5197632 , -0.19304278, -0.5836046 ,  0.45888835,  0.05715454,\n",
              "         -0.28923216, -0.06193638,  0.36074007],\n",
              "        [ 0.03061551,  0.5014562 ,  0.39985603,  0.42994744,  0.44878978,\n",
              "          0.29997593,  0.3139916 , -0.3651058 ],\n",
              "        [ 0.3407771 , -0.19622034,  0.18611926,  0.33607012,  0.06571388,\n",
              "          0.41219276, -0.52493817, -0.3741392 ],\n",
              "        [-0.601584  ,  0.28335828, -0.4682511 ,  0.14476389, -0.1679588 ,\n",
              "         -0.4844067 , -0.21521318,  0.54388076],\n",
              "        [ 0.27839172, -0.45232606,  0.23523265, -0.49540552, -0.52994806,\n",
              "         -0.23005795, -0.0214988 , -0.04746753],\n",
              "        [-0.30586445,  0.45083934, -0.47980648,  0.0840776 ,  0.26561797,\n",
              "          0.03148365, -0.00326574,  0.23168015],\n",
              "        [ 0.51929504,  0.31385976, -0.15666503, -0.5994064 , -0.06353712,\n",
              "          0.38777035,  0.50640637, -0.03296936],\n",
              "        [ 0.10582602, -0.45805293,  0.57878906, -0.43002278,  0.54918844,\n",
              "         -0.14732638, -0.51425517, -0.06805032]], dtype=float32),\n",
              " array([0., 0., 0., 0., 0., 0., 0., 0.], dtype=float32)]"
            ]
          },
          "metadata": {
            "tags": []
          },
          "execution_count": 15
        }
      ]
    },
    {
      "cell_type": "code",
      "metadata": {
        "colab": {
          "base_uri": "https://localhost:8080/"
        },
        "id": "bJyJKcKMYV4e",
        "outputId": "aab7da12-099f-4c5c-c963-041f75e8f2df"
      },
      "source": [
        "model.get_config()"
      ],
      "execution_count": 16,
      "outputs": [
        {
          "output_type": "execute_result",
          "data": {
            "text/plain": [
              "{'layers': [{'class_name': 'InputLayer',\n",
              "   'config': {'batch_input_shape': (None, 16),\n",
              "    'dtype': 'float32',\n",
              "    'name': 'dense_3_input',\n",
              "    'ragged': False,\n",
              "    'sparse': False}},\n",
              "  {'class_name': 'Dense',\n",
              "   'config': {'activation': 'linear',\n",
              "    'activity_regularizer': None,\n",
              "    'batch_input_shape': (None, 16),\n",
              "    'bias_constraint': None,\n",
              "    'bias_initializer': {'class_name': 'Zeros', 'config': {}},\n",
              "    'bias_regularizer': None,\n",
              "    'dtype': 'float32',\n",
              "    'kernel_constraint': None,\n",
              "    'kernel_initializer': {'class_name': 'GlorotUniform',\n",
              "     'config': {'seed': None}},\n",
              "    'kernel_regularizer': None,\n",
              "    'name': 'dense_3',\n",
              "    'trainable': True,\n",
              "    'units': 8,\n",
              "    'use_bias': True}},\n",
              "  {'class_name': 'Dense',\n",
              "   'config': {'activation': 'linear',\n",
              "    'activity_regularizer': None,\n",
              "    'bias_constraint': None,\n",
              "    'bias_initializer': {'class_name': 'Zeros', 'config': {}},\n",
              "    'bias_regularizer': None,\n",
              "    'dtype': 'float32',\n",
              "    'kernel_constraint': None,\n",
              "    'kernel_initializer': {'class_name': 'GlorotUniform',\n",
              "     'config': {'seed': None}},\n",
              "    'kernel_regularizer': None,\n",
              "    'name': 'dense_4',\n",
              "    'trainable': True,\n",
              "    'units': 8,\n",
              "    'use_bias': True}}],\n",
              " 'name': 'sequential'}"
            ]
          },
          "metadata": {
            "tags": []
          },
          "execution_count": 16
        }
      ]
    },
    {
      "cell_type": "code",
      "metadata": {
        "id": "BQ56YDWgY0aa"
      },
      "source": [
        "mdl = model.to_json()\n",
        "import json \n",
        "\n",
        "with open('model.json', 'w') as file:\n",
        "  json.dump(mdl, file)"
      ],
      "execution_count": 28,
      "outputs": []
    },
    {
      "cell_type": "code",
      "metadata": {
        "colab": {
          "base_uri": "https://localhost:8080/",
          "height": 154
        },
        "id": "l5tP-LvHY-1k",
        "outputId": "27d0ddeb-924f-4530-f24c-2bb9f7dc7358"
      },
      "source": [
        "mdl"
      ],
      "execution_count": 25,
      "outputs": [
        {
          "output_type": "execute_result",
          "data": {
            "application/vnd.google.colaboratory.intrinsic+json": {
              "type": "string"
            },
            "text/plain": [
              "'{\"class_name\": \"Sequential\", \"config\": {\"name\": \"sequential\", \"layers\": [{\"class_name\": \"InputLayer\", \"config\": {\"batch_input_shape\": [null, 16], \"dtype\": \"float32\", \"sparse\": false, \"ragged\": false, \"name\": \"dense_3_input\"}}, {\"class_name\": \"Dense\", \"config\": {\"name\": \"dense_3\", \"trainable\": true, \"batch_input_shape\": [null, 16], \"dtype\": \"float32\", \"units\": 8, \"activation\": \"linear\", \"use_bias\": true, \"kernel_initializer\": {\"class_name\": \"GlorotUniform\", \"config\": {\"seed\": null}}, \"bias_initializer\": {\"class_name\": \"Zeros\", \"config\": {}}, \"kernel_regularizer\": null, \"bias_regularizer\": null, \"activity_regularizer\": null, \"kernel_constraint\": null, \"bias_constraint\": null}}, {\"class_name\": \"Dense\", \"config\": {\"name\": \"dense_4\", \"trainable\": true, \"dtype\": \"float32\", \"units\": 8, \"activation\": \"linear\", \"use_bias\": true, \"kernel_initializer\": {\"class_name\": \"GlorotUniform\", \"config\": {\"seed\": null}}, \"bias_initializer\": {\"class_name\": \"Zeros\", \"config\": {}}, \"kernel_regularizer\": null, \"bias_regularizer\": null, \"activity_regularizer\": null, \"kernel_constraint\": null, \"bias_constraint\": null}}]}, \"keras_version\": \"2.4.0\", \"backend\": \"tensorflow\"}'"
            ]
          },
          "metadata": {
            "tags": []
          },
          "execution_count": 25
        }
      ]
    },
    {
      "cell_type": "code",
      "metadata": {
        "id": "mTsOwmRfaRE6"
      },
      "source": [
        ""
      ],
      "execution_count": null,
      "outputs": []
    }
  ]
}