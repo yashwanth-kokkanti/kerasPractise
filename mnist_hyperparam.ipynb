{
  "nbformat": 4,
  "nbformat_minor": 0,
  "metadata": {
    "colab": {
      "name": "Untitled",
      "provenance": [],
      "collapsed_sections": [],
      "authorship_tag": "ABX9TyN5ZL89n4FHInKhLHUuWADs",
      "include_colab_link": true
    },
    "kernelspec": {
      "name": "python3",
      "display_name": "Python 3"
    }
  },
  "cells": [
    {
      "cell_type": "markdown",
      "metadata": {
        "id": "view-in-github",
        "colab_type": "text"
      },
      "source": [
        "<a href=\"https://colab.research.google.com/github/yashwanth-kokkanti/kerasPractise/blob/main/mnist_hyperparam.ipynb\" target=\"_parent\"><img src=\"https://colab.research.google.com/assets/colab-badge.svg\" alt=\"Open In Colab\"/></a>"
      ]
    },
    {
      "cell_type": "code",
      "metadata": {
        "id": "wkZnlcLxaJoL"
      },
      "source": [
        "## Using Keras perform MNIST classification task with simple MLP network \n",
        "\n",
        "import keras\n",
        "from keras.utils import np_utils\n",
        "from keras.datasets import mnist\n",
        "import seaborn as sns\n",
        "from keras.initializers import RandomNormal\n",
        "import matplotlib.pyplot as plt\n",
        "import numpy as np\n",
        "import time "
      ],
      "execution_count": 33,
      "outputs": []
    },
    {
      "cell_type": "code",
      "metadata": {
        "id": "hCGd9UWEandj"
      },
      "source": [
        "%matplotlib inline \n",
        "\n",
        "## Write a function to update the plots for each epoch and error \n",
        "\n",
        "def plt_dynamic (x, vy, ty, ax, colors=['b']):\n",
        "  ax.plot(x, vy, 'b', label='Validation Loss')\n",
        "  ax.plot(x, ty, 'r', label='Train Loss')\n",
        "  plt.legend()\n",
        "  plt.grid()\n",
        "  fig.canvas.draw()"
      ],
      "execution_count": 34,
      "outputs": []
    },
    {
      "cell_type": "code",
      "metadata": {
        "colab": {
          "base_uri": "https://localhost:8080/"
        },
        "id": "jW9O4pi2baOm",
        "outputId": "68cbc33b-56b2-4f25-80a7-19505bfc464a"
      },
      "source": [
        "## Split Data into Train and test \n",
        "(x_train, y_train), (x_test, y_test) = mnist.load_data()\n",
        "\n",
        "print (\"Number of Training Examples : \", x_train.shape[0], \" and X_Train Shape \", x_train.shape)"
      ],
      "execution_count": 35,
      "outputs": [
        {
          "output_type": "stream",
          "text": [
            "Number of Training Examples :  60000  and X_Train Shape  (60000, 28, 28)\n"
          ],
          "name": "stdout"
        }
      ]
    },
    {
      "cell_type": "code",
      "metadata": {
        "colab": {
          "base_uri": "https://localhost:8080/"
        },
        "id": "Awp9i-NTcD0J",
        "outputId": "dbbf34b7-4135-4ca8-d196-d53c65e5e846"
      },
      "source": [
        "## Data is 3 Dimensional Vector, but MLP takes 1D vector. So need to convert into Vector. \n",
        "\n",
        "x_train = x_train.reshape(x_train.shape[0], x_train.shape[1]*x_train.shape[2])\n",
        "x_test = x_test.reshape(x_test.shape[0], x_test.shape[1]*x_test.shape[2])\n",
        "\n",
        "print (x_train[0])\n",
        "print (x_train.shape)\n"
      ],
      "execution_count": 36,
      "outputs": [
        {
          "output_type": "stream",
          "text": [
            "[  0   0   0   0   0   0   0   0   0   0   0   0   0   0   0   0   0   0\n",
            "   0   0   0   0   0   0   0   0   0   0   0   0   0   0   0   0   0   0\n",
            "   0   0   0   0   0   0   0   0   0   0   0   0   0   0   0   0   0   0\n",
            "   0   0   0   0   0   0   0   0   0   0   0   0   0   0   0   0   0   0\n",
            "   0   0   0   0   0   0   0   0   0   0   0   0   0   0   0   0   0   0\n",
            "   0   0   0   0   0   0   0   0   0   0   0   0   0   0   0   0   0   0\n",
            "   0   0   0   0   0   0   0   0   0   0   0   0   0   0   0   0   0   0\n",
            "   0   0   0   0   0   0   0   0   0   0   0   0   0   0   0   0   0   0\n",
            "   0   0   0   0   0   0   0   0   3  18  18  18 126 136 175  26 166 255\n",
            " 247 127   0   0   0   0   0   0   0   0   0   0   0   0  30  36  94 154\n",
            " 170 253 253 253 253 253 225 172 253 242 195  64   0   0   0   0   0   0\n",
            "   0   0   0   0   0  49 238 253 253 253 253 253 253 253 253 251  93  82\n",
            "  82  56  39   0   0   0   0   0   0   0   0   0   0   0   0  18 219 253\n",
            " 253 253 253 253 198 182 247 241   0   0   0   0   0   0   0   0   0   0\n",
            "   0   0   0   0   0   0   0   0  80 156 107 253 253 205  11   0  43 154\n",
            "   0   0   0   0   0   0   0   0   0   0   0   0   0   0   0   0   0   0\n",
            "   0  14   1 154 253  90   0   0   0   0   0   0   0   0   0   0   0   0\n",
            "   0   0   0   0   0   0   0   0   0   0   0   0   0 139 253 190   2   0\n",
            "   0   0   0   0   0   0   0   0   0   0   0   0   0   0   0   0   0   0\n",
            "   0   0   0   0   0  11 190 253  70   0   0   0   0   0   0   0   0   0\n",
            "   0   0   0   0   0   0   0   0   0   0   0   0   0   0   0   0  35 241\n",
            " 225 160 108   1   0   0   0   0   0   0   0   0   0   0   0   0   0   0\n",
            "   0   0   0   0   0   0   0   0   0  81 240 253 253 119  25   0   0   0\n",
            "   0   0   0   0   0   0   0   0   0   0   0   0   0   0   0   0   0   0\n",
            "   0   0  45 186 253 253 150  27   0   0   0   0   0   0   0   0   0   0\n",
            "   0   0   0   0   0   0   0   0   0   0   0   0   0  16  93 252 253 187\n",
            "   0   0   0   0   0   0   0   0   0   0   0   0   0   0   0   0   0   0\n",
            "   0   0   0   0   0   0   0 249 253 249  64   0   0   0   0   0   0   0\n",
            "   0   0   0   0   0   0   0   0   0   0   0   0   0   0  46 130 183 253\n",
            " 253 207   2   0   0   0   0   0   0   0   0   0   0   0   0   0   0   0\n",
            "   0   0   0   0  39 148 229 253 253 253 250 182   0   0   0   0   0   0\n",
            "   0   0   0   0   0   0   0   0   0   0   0   0  24 114 221 253 253 253\n",
            " 253 201  78   0   0   0   0   0   0   0   0   0   0   0   0   0   0   0\n",
            "   0   0  23  66 213 253 253 253 253 198  81   2   0   0   0   0   0   0\n",
            "   0   0   0   0   0   0   0   0   0   0  18 171 219 253 253 253 253 195\n",
            "  80   9   0   0   0   0   0   0   0   0   0   0   0   0   0   0   0   0\n",
            "  55 172 226 253 253 253 253 244 133  11   0   0   0   0   0   0   0   0\n",
            "   0   0   0   0   0   0   0   0   0   0 136 253 253 253 212 135 132  16\n",
            "   0   0   0   0   0   0   0   0   0   0   0   0   0   0   0   0   0   0\n",
            "   0   0   0   0   0   0   0   0   0   0   0   0   0   0   0   0   0   0\n",
            "   0   0   0   0   0   0   0   0   0   0   0   0   0   0   0   0   0   0\n",
            "   0   0   0   0   0   0   0   0   0   0   0   0   0   0   0   0   0   0\n",
            "   0   0   0   0   0   0   0   0   0   0   0   0   0   0   0   0   0   0\n",
            "   0   0   0   0   0   0   0   0   0   0]\n",
            "(60000, 784)\n"
          ],
          "name": "stdout"
        }
      ]
    },
    {
      "cell_type": "code",
      "metadata": {
        "colab": {
          "base_uri": "https://localhost:8080/"
        },
        "id": "Knx5fQMOeXYJ",
        "outputId": "435bb21e-777a-4166-acd5-1744b930dd29"
      },
      "source": [
        "## Need to normalise all Data . == (X - Xmin ) / (Xmax - Xmin) = X/255 ## (Xmax = 255 and Xmin = 0)\n",
        "\n",
        "x_train = x_train / 255\n",
        "x_test = x_test / 255 \n",
        "\n",
        "print (x_train[0])\n"
      ],
      "execution_count": 37,
      "outputs": [
        {
          "output_type": "stream",
          "text": [
            "[0.         0.         0.         0.         0.         0.\n",
            " 0.         0.         0.         0.         0.         0.\n",
            " 0.         0.         0.         0.         0.         0.\n",
            " 0.         0.         0.         0.         0.         0.\n",
            " 0.         0.         0.         0.         0.         0.\n",
            " 0.         0.         0.         0.         0.         0.\n",
            " 0.         0.         0.         0.         0.         0.\n",
            " 0.         0.         0.         0.         0.         0.\n",
            " 0.         0.         0.         0.         0.         0.\n",
            " 0.         0.         0.         0.         0.         0.\n",
            " 0.         0.         0.         0.         0.         0.\n",
            " 0.         0.         0.         0.         0.         0.\n",
            " 0.         0.         0.         0.         0.         0.\n",
            " 0.         0.         0.         0.         0.         0.\n",
            " 0.         0.         0.         0.         0.         0.\n",
            " 0.         0.         0.         0.         0.         0.\n",
            " 0.         0.         0.         0.         0.         0.\n",
            " 0.         0.         0.         0.         0.         0.\n",
            " 0.         0.         0.         0.         0.         0.\n",
            " 0.         0.         0.         0.         0.         0.\n",
            " 0.         0.         0.         0.         0.         0.\n",
            " 0.         0.         0.         0.         0.         0.\n",
            " 0.         0.         0.         0.         0.         0.\n",
            " 0.         0.         0.         0.         0.         0.\n",
            " 0.         0.         0.         0.         0.         0.\n",
            " 0.         0.         0.01176471 0.07058824 0.07058824 0.07058824\n",
            " 0.49411765 0.53333333 0.68627451 0.10196078 0.65098039 1.\n",
            " 0.96862745 0.49803922 0.         0.         0.         0.\n",
            " 0.         0.         0.         0.         0.         0.\n",
            " 0.         0.         0.11764706 0.14117647 0.36862745 0.60392157\n",
            " 0.66666667 0.99215686 0.99215686 0.99215686 0.99215686 0.99215686\n",
            " 0.88235294 0.6745098  0.99215686 0.94901961 0.76470588 0.25098039\n",
            " 0.         0.         0.         0.         0.         0.\n",
            " 0.         0.         0.         0.         0.         0.19215686\n",
            " 0.93333333 0.99215686 0.99215686 0.99215686 0.99215686 0.99215686\n",
            " 0.99215686 0.99215686 0.99215686 0.98431373 0.36470588 0.32156863\n",
            " 0.32156863 0.21960784 0.15294118 0.         0.         0.\n",
            " 0.         0.         0.         0.         0.         0.\n",
            " 0.         0.         0.         0.07058824 0.85882353 0.99215686\n",
            " 0.99215686 0.99215686 0.99215686 0.99215686 0.77647059 0.71372549\n",
            " 0.96862745 0.94509804 0.         0.         0.         0.\n",
            " 0.         0.         0.         0.         0.         0.\n",
            " 0.         0.         0.         0.         0.         0.\n",
            " 0.         0.         0.31372549 0.61176471 0.41960784 0.99215686\n",
            " 0.99215686 0.80392157 0.04313725 0.         0.16862745 0.60392157\n",
            " 0.         0.         0.         0.         0.         0.\n",
            " 0.         0.         0.         0.         0.         0.\n",
            " 0.         0.         0.         0.         0.         0.\n",
            " 0.         0.05490196 0.00392157 0.60392157 0.99215686 0.35294118\n",
            " 0.         0.         0.         0.         0.         0.\n",
            " 0.         0.         0.         0.         0.         0.\n",
            " 0.         0.         0.         0.         0.         0.\n",
            " 0.         0.         0.         0.         0.         0.\n",
            " 0.         0.54509804 0.99215686 0.74509804 0.00784314 0.\n",
            " 0.         0.         0.         0.         0.         0.\n",
            " 0.         0.         0.         0.         0.         0.\n",
            " 0.         0.         0.         0.         0.         0.\n",
            " 0.         0.         0.         0.         0.         0.04313725\n",
            " 0.74509804 0.99215686 0.2745098  0.         0.         0.\n",
            " 0.         0.         0.         0.         0.         0.\n",
            " 0.         0.         0.         0.         0.         0.\n",
            " 0.         0.         0.         0.         0.         0.\n",
            " 0.         0.         0.         0.         0.1372549  0.94509804\n",
            " 0.88235294 0.62745098 0.42352941 0.00392157 0.         0.\n",
            " 0.         0.         0.         0.         0.         0.\n",
            " 0.         0.         0.         0.         0.         0.\n",
            " 0.         0.         0.         0.         0.         0.\n",
            " 0.         0.         0.         0.31764706 0.94117647 0.99215686\n",
            " 0.99215686 0.46666667 0.09803922 0.         0.         0.\n",
            " 0.         0.         0.         0.         0.         0.\n",
            " 0.         0.         0.         0.         0.         0.\n",
            " 0.         0.         0.         0.         0.         0.\n",
            " 0.         0.         0.17647059 0.72941176 0.99215686 0.99215686\n",
            " 0.58823529 0.10588235 0.         0.         0.         0.\n",
            " 0.         0.         0.         0.         0.         0.\n",
            " 0.         0.         0.         0.         0.         0.\n",
            " 0.         0.         0.         0.         0.         0.\n",
            " 0.         0.0627451  0.36470588 0.98823529 0.99215686 0.73333333\n",
            " 0.         0.         0.         0.         0.         0.\n",
            " 0.         0.         0.         0.         0.         0.\n",
            " 0.         0.         0.         0.         0.         0.\n",
            " 0.         0.         0.         0.         0.         0.\n",
            " 0.         0.97647059 0.99215686 0.97647059 0.25098039 0.\n",
            " 0.         0.         0.         0.         0.         0.\n",
            " 0.         0.         0.         0.         0.         0.\n",
            " 0.         0.         0.         0.         0.         0.\n",
            " 0.         0.         0.18039216 0.50980392 0.71764706 0.99215686\n",
            " 0.99215686 0.81176471 0.00784314 0.         0.         0.\n",
            " 0.         0.         0.         0.         0.         0.\n",
            " 0.         0.         0.         0.         0.         0.\n",
            " 0.         0.         0.         0.         0.15294118 0.58039216\n",
            " 0.89803922 0.99215686 0.99215686 0.99215686 0.98039216 0.71372549\n",
            " 0.         0.         0.         0.         0.         0.\n",
            " 0.         0.         0.         0.         0.         0.\n",
            " 0.         0.         0.         0.         0.         0.\n",
            " 0.09411765 0.44705882 0.86666667 0.99215686 0.99215686 0.99215686\n",
            " 0.99215686 0.78823529 0.30588235 0.         0.         0.\n",
            " 0.         0.         0.         0.         0.         0.\n",
            " 0.         0.         0.         0.         0.         0.\n",
            " 0.         0.         0.09019608 0.25882353 0.83529412 0.99215686\n",
            " 0.99215686 0.99215686 0.99215686 0.77647059 0.31764706 0.00784314\n",
            " 0.         0.         0.         0.         0.         0.\n",
            " 0.         0.         0.         0.         0.         0.\n",
            " 0.         0.         0.         0.         0.07058824 0.67058824\n",
            " 0.85882353 0.99215686 0.99215686 0.99215686 0.99215686 0.76470588\n",
            " 0.31372549 0.03529412 0.         0.         0.         0.\n",
            " 0.         0.         0.         0.         0.         0.\n",
            " 0.         0.         0.         0.         0.         0.\n",
            " 0.21568627 0.6745098  0.88627451 0.99215686 0.99215686 0.99215686\n",
            " 0.99215686 0.95686275 0.52156863 0.04313725 0.         0.\n",
            " 0.         0.         0.         0.         0.         0.\n",
            " 0.         0.         0.         0.         0.         0.\n",
            " 0.         0.         0.         0.         0.53333333 0.99215686\n",
            " 0.99215686 0.99215686 0.83137255 0.52941176 0.51764706 0.0627451\n",
            " 0.         0.         0.         0.         0.         0.\n",
            " 0.         0.         0.         0.         0.         0.\n",
            " 0.         0.         0.         0.         0.         0.\n",
            " 0.         0.         0.         0.         0.         0.\n",
            " 0.         0.         0.         0.         0.         0.\n",
            " 0.         0.         0.         0.         0.         0.\n",
            " 0.         0.         0.         0.         0.         0.\n",
            " 0.         0.         0.         0.         0.         0.\n",
            " 0.         0.         0.         0.         0.         0.\n",
            " 0.         0.         0.         0.         0.         0.\n",
            " 0.         0.         0.         0.         0.         0.\n",
            " 0.         0.         0.         0.         0.         0.\n",
            " 0.         0.         0.         0.         0.         0.\n",
            " 0.         0.         0.         0.         0.         0.\n",
            " 0.         0.         0.         0.         0.         0.\n",
            " 0.         0.         0.         0.         0.         0.\n",
            " 0.         0.         0.         0.        ]\n"
          ],
          "name": "stdout"
        }
      ]
    },
    {
      "cell_type": "code",
      "metadata": {
        "colab": {
          "base_uri": "https://localhost:8080/"
        },
        "id": "Zs9WnQewfJ_k",
        "outputId": "aacaf395-e7ed-404b-a2d4-e14c48442dd0"
      },
      "source": [
        "## Now Convert Output Classes from number to 10 dimensional vector \n",
        "\n",
        "y_train = np_utils.to_categorical(y_train, 10)\n",
        "y_test = np_utils.to_categorical(y_test, 10)\n",
        "\n",
        "print (y_train[0])"
      ],
      "execution_count": 38,
      "outputs": [
        {
          "output_type": "stream",
          "text": [
            "[0. 0. 0. 0. 0. 1. 0. 0. 0. 0.]\n"
          ],
          "name": "stdout"
        }
      ]
    },
    {
      "cell_type": "code",
      "metadata": {
        "id": "5jT_B7bgfoRK"
      },
      "source": [
        "## Build Model with SoftMax Classifier \n",
        "\n",
        "from keras.models import Sequential\n",
        "from keras.layers import Dense, Activation\n"
      ],
      "execution_count": 39,
      "outputs": []
    },
    {
      "cell_type": "code",
      "metadata": {
        "id": "VkW8ZlfrgCgC"
      },
      "source": [
        "## Initialize Model Params \n",
        "\n",
        "output_dim = 10 \n",
        "input_dim = x_train.shape[1]\n",
        "\n",
        "batch_size = 128\n",
        "epochs = 12\n"
      ],
      "execution_count": 40,
      "outputs": []
    },
    {
      "cell_type": "code",
      "metadata": {
        "id": "mOTHNxjmgO47"
      },
      "source": [
        "## Build model \n",
        "\n",
        "model = Sequential()\n",
        "\n",
        "model.add(Dense(output_dim, input_dim=input_dim, activation='softmax'))"
      ],
      "execution_count": 41,
      "outputs": []
    },
    {
      "cell_type": "code",
      "metadata": {
        "colab": {
          "base_uri": "https://localhost:8080/"
        },
        "id": "tcEbDzoEgroP",
        "outputId": "89167a71-f012-4187-e006-efbce42c1655"
      },
      "source": [
        "model.compile(optimizer='sgd', loss='categorical_crossentropy', metrics=['accuracy'])\n",
        "\n",
        "history = model.fit(x_train, y_train, batch_size=batch_size, epochs=epochs, verbose=1, validation_data=(x_test, y_test))"
      ],
      "execution_count": 42,
      "outputs": [
        {
          "output_type": "stream",
          "text": [
            "Epoch 1/12\n",
            "469/469 [==============================] - 1s 2ms/step - loss: 1.2824 - accuracy: 0.7040 - val_loss: 0.8073 - val_accuracy: 0.8342\n",
            "Epoch 2/12\n",
            "469/469 [==============================] - 1s 2ms/step - loss: 0.7108 - accuracy: 0.8432 - val_loss: 0.6030 - val_accuracy: 0.8631\n",
            "Epoch 3/12\n",
            "469/469 [==============================] - 1s 2ms/step - loss: 0.5824 - accuracy: 0.8610 - val_loss: 0.5218 - val_accuracy: 0.8765\n",
            "Epoch 4/12\n",
            "469/469 [==============================] - 1s 2ms/step - loss: 0.5214 - accuracy: 0.8706 - val_loss: 0.4763 - val_accuracy: 0.8819\n",
            "Epoch 5/12\n",
            "469/469 [==============================] - 1s 2ms/step - loss: 0.4845 - accuracy: 0.8765 - val_loss: 0.4470 - val_accuracy: 0.8870\n",
            "Epoch 6/12\n",
            "469/469 [==============================] - 1s 2ms/step - loss: 0.4591 - accuracy: 0.8808 - val_loss: 0.4260 - val_accuracy: 0.8901\n",
            "Epoch 7/12\n",
            "469/469 [==============================] - 1s 2ms/step - loss: 0.4403 - accuracy: 0.8838 - val_loss: 0.4100 - val_accuracy: 0.8937\n",
            "Epoch 8/12\n",
            "469/469 [==============================] - 1s 2ms/step - loss: 0.4256 - accuracy: 0.8862 - val_loss: 0.3973 - val_accuracy: 0.8962\n",
            "Epoch 9/12\n",
            "469/469 [==============================] - 1s 2ms/step - loss: 0.4139 - accuracy: 0.8887 - val_loss: 0.3873 - val_accuracy: 0.8983\n",
            "Epoch 10/12\n",
            "469/469 [==============================] - 1s 2ms/step - loss: 0.4040 - accuracy: 0.8910 - val_loss: 0.3791 - val_accuracy: 0.8995\n",
            "Epoch 11/12\n",
            "469/469 [==============================] - 1s 2ms/step - loss: 0.3958 - accuracy: 0.8927 - val_loss: 0.3716 - val_accuracy: 0.9008\n",
            "Epoch 12/12\n",
            "469/469 [==============================] - 1s 2ms/step - loss: 0.3886 - accuracy: 0.8941 - val_loss: 0.3654 - val_accuracy: 0.9015\n"
          ],
          "name": "stdout"
        }
      ]
    },
    {
      "cell_type": "code",
      "metadata": {
        "colab": {
          "base_uri": "https://localhost:8080/"
        },
        "id": "DsCzL9jghOhn",
        "outputId": "afc97042-440c-4ce5-ee2f-7fb1383c80ab"
      },
      "source": [
        "score = model.evaluate(x_test, y_test, verbose=0)\n",
        "\n",
        "print (\"Test Score \", score[0])\n",
        "print (\"Test accuracy \", score[1])"
      ],
      "execution_count": 43,
      "outputs": [
        {
          "output_type": "stream",
          "text": [
            "Test Score  0.36544254422187805\n",
            "Test accuracy  0.9014999866485596\n"
          ],
          "name": "stdout"
        }
      ]
    },
    {
      "cell_type": "code",
      "metadata": {
        "colab": {
          "base_uri": "https://localhost:8080/",
          "height": 279
        },
        "id": "X9_w8zmRiNTE",
        "outputId": "2e58307f-2968-4691-9010-59ee3eacb178"
      },
      "source": [
        "fig, ax = plt.subplots(1, 1)\n",
        "ax.set_xlabel('epoch') \n",
        "ax.set_ylabel(\"Categorical CrossEntropy Loss\")\n",
        "\n",
        "x = list(range(1, epochs+1))\n",
        "vy = history.history['val_loss']\n",
        "ty = history.history['loss']\n",
        "\n",
        "plt_dynamic(x, vy, ty, ax)"
      ],
      "execution_count": 44,
      "outputs": [
        {
          "output_type": "display_data",
          "data": {
            "image/png": "[encoded data removed]",
            "text/plain": [
              "<Figure size 432x288 with 1 Axes>"
            ]
          },
          "metadata": {
            "tags": [],
            "needs_background": "light"
          }
        }
      ]
    },
    {
      "cell_type": "code",
      "metadata": {
        "colab": {
          "base_uri": "https://localhost:8080/"
        },
        "id": "q5oeg1hJi34N",
        "outputId": "1efe6135-8b3c-4fd3-c380-fa93247815c8"
      },
      "source": [
        "## Build Model with MLP + SGD Optimizer + Sigmoid Activation \n",
        "\n",
        "model_sig = Sequential()\n",
        "model_sig.add(Dense(512, activation='sigmoid', input_shape=(input_dim,)  ))\n",
        "model_sig.add(Dense(128, activation='sigmoid'))\n",
        "model_sig.add(Dense(output_dim, activation='softmax'))\n",
        "\n",
        "model_sig.summary()"
      ],
      "execution_count": 45,
      "outputs": [
        {
          "output_type": "stream",
          "text": [
            "Model: \"sequential_50\"\n",
            "_________________________________________________________________\n",
            "Layer (type)                 Output Shape              Param #   \n",
            "=================================================================\n",
            "dense_157 (Dense)            (None, 512)               401920    \n",
            "_________________________________________________________________\n",
            "dense_158 (Dense)            (None, 128)               65664     \n",
            "_________________________________________________________________\n",
            "dense_159 (Dense)            (None, 10)                1290      \n",
            "=================================================================\n",
            "Total params: 468,874\n",
            "Trainable params: 468,874\n",
            "Non-trainable params: 0\n",
            "_________________________________________________________________\n"
          ],
          "name": "stdout"
        }
      ]
    },
    {
      "cell_type": "code",
      "metadata": {
        "colab": {
          "base_uri": "https://localhost:8080/"
        },
        "id": "4pWlOW44FoHM",
        "outputId": "3a5dd0e2-f04c-4443-a584-365a14bffc82"
      },
      "source": [
        "model_sig.compile(optimizer='sgd', loss='categorical_crossentropy', metrics=['accuracy'])\n",
        "\n",
        "history = model_sig.fit(x_train, y_train, batch_size=batch_size, epochs=epochs, verbose=1, validation_data=(x_test, y_test))"
      ],
      "execution_count": 46,
      "outputs": [
        {
          "output_type": "stream",
          "text": [
            "Epoch 1/12\n",
            "469/469 [==============================] - 4s 9ms/step - loss: 2.2743 - accuracy: 0.2407 - val_loss: 2.2223 - val_accuracy: 0.2666\n",
            "Epoch 2/12\n",
            "469/469 [==============================] - 5s 10ms/step - loss: 2.1798 - accuracy: 0.4349 - val_loss: 2.1268 - val_accuracy: 0.5754\n",
            "Epoch 3/12\n",
            "469/469 [==============================] - 4s 9ms/step - loss: 2.0675 - accuracy: 0.5739 - val_loss: 1.9905 - val_accuracy: 0.6056\n",
            "Epoch 4/12\n",
            "469/469 [==============================] - 4s 9ms/step - loss: 1.9069 - accuracy: 0.6277 - val_loss: 1.7995 - val_accuracy: 0.6458\n",
            "Epoch 5/12\n",
            "469/469 [==============================] - 4s 9ms/step - loss: 1.6962 - accuracy: 0.6675 - val_loss: 1.5681 - val_accuracy: 0.6984\n",
            "Epoch 6/12\n",
            "469/469 [==============================] - 4s 9ms/step - loss: 1.4640 - accuracy: 0.7048 - val_loss: 1.3363 - val_accuracy: 0.7263\n",
            "Epoch 7/12\n",
            "469/469 [==============================] - 4s 9ms/step - loss: 1.2511 - accuracy: 0.7362 - val_loss: 1.1421 - val_accuracy: 0.7525\n",
            "Epoch 8/12\n",
            "469/469 [==============================] - 4s 9ms/step - loss: 1.0803 - accuracy: 0.7611 - val_loss: 0.9933 - val_accuracy: 0.7745\n",
            "Epoch 9/12\n",
            "469/469 [==============================] - 4s 9ms/step - loss: 0.9507 - accuracy: 0.7818 - val_loss: 0.8816 - val_accuracy: 0.7925\n",
            "Epoch 10/12\n",
            "469/469 [==============================] - 5s 10ms/step - loss: 0.8524 - accuracy: 0.7992 - val_loss: 0.7949 - val_accuracy: 0.8104\n",
            "Epoch 11/12\n",
            "469/469 [==============================] - 5s 10ms/step - loss: 0.7762 - accuracy: 0.8127 - val_loss: 0.7283 - val_accuracy: 0.8234\n",
            "Epoch 12/12\n",
            "469/469 [==============================] - 4s 9ms/step - loss: 0.7160 - accuracy: 0.8235 - val_loss: 0.6747 - val_accuracy: 0.8333\n"
          ],
          "name": "stdout"
        }
      ]
    },
    {
      "cell_type": "code",
      "metadata": {
        "colab": {
          "base_uri": "https://localhost:8080/",
          "height": 313
        },
        "id": "VC4_R19wHNnd",
        "outputId": "5f11cd5b-aa7c-441f-a7fb-52d3e6a00d51"
      },
      "source": [
        "score = model_sig.evaluate(x_test, y_test, verbose=0)\n",
        "\n",
        "print (\"Test Score :\", score[0])\n",
        "print (\"Test accuracy :\", score[1])\n",
        "\n",
        "fig, ax = plt.subplots(1,1)\n",
        "ax.set_xlabel('epoch')\n",
        "ax.set_ylabel('Categorical CrossEntropy Loss ')\n",
        "\n",
        "x = list(range(1, epochs+1))\n",
        "\n",
        "vy = history.history['val_loss']\n",
        "ty = history.history['loss']\n",
        "\n",
        "plt_dynamic(x, vy, ty, ax)"
      ],
      "execution_count": 47,
      "outputs": [
        {
          "output_type": "stream",
          "text": [
            "Test Score : 0.6747231483459473\n",
            "Test accuracy : 0.833299994468689\n"
          ],
          "name": "stdout"
        },
        {
          "output_type": "display_data",
          "data": {
            "image/png": "[encoded data removed]",
            "text/plain": [
              "<Figure size 432x288 with 1 Axes>"
            ]
          },
          "metadata": {
            "tags": [],
            "needs_background": "light"
          }
        }
      ]
    },
    {
      "cell_type": "code",
      "metadata": {
        "colab": {
          "base_uri": "https://localhost:8080/"
        },
        "id": "Vz9egQpWIToZ",
        "outputId": "21e46d59-7aa9-4760-d1af-ba8418e9dcb1"
      },
      "source": [
        "## MLP + Sigmoid + ADAM \n",
        "\n",
        "model_adm = Sequential()\n",
        "model_adm.add(Dense(512, activation='sigmoid', input_shape=(input_dim, )))\n",
        "model_adm.add(Dense(256, activation='sigmoid'))\n",
        "model_adm.add(Dense(128, activation='sigmoid'))\n",
        "model_adm.add(Dense(output_dim, activation='softmax'))\n",
        "\n",
        "\n",
        "model_adm.summary()\n",
        "\n",
        "model_adm.compile(optimizer='adam', loss='categorical_crossentropy', metrics=['accuracy'])\n",
        "\n",
        "history = model_adm.fit(x_train, y_train, batch_size=batch_size, epochs=epochs, verbose=1, validation_data=(x_test, y_test))"
      ],
      "execution_count": 48,
      "outputs": [
        {
          "output_type": "stream",
          "text": [
            "Model: \"sequential_51\"\n",
            "_________________________________________________________________\n",
            "Layer (type)                 Output Shape              Param #   \n",
            "=================================================================\n",
            "dense_160 (Dense)            (None, 512)               401920    \n",
            "_________________________________________________________________\n",
            "dense_161 (Dense)            (None, 256)               131328    \n",
            "_________________________________________________________________\n",
            "dense_162 (Dense)            (None, 128)               32896     \n",
            "_________________________________________________________________\n",
            "dense_163 (Dense)            (None, 10)                1290      \n",
            "=================================================================\n",
            "Total params: 567,434\n",
            "Trainable params: 567,434\n",
            "Non-trainable params: 0\n",
            "_________________________________________________________________\n",
            "Epoch 1/12\n",
            "469/469 [==============================] - 6s 12ms/step - loss: 0.6326 - accuracy: 0.8170 - val_loss: 0.2443 - val_accuracy: 0.9290\n",
            "Epoch 2/12\n",
            "469/469 [==============================] - 6s 12ms/step - loss: 0.2019 - accuracy: 0.9406 - val_loss: 0.1623 - val_accuracy: 0.9502\n",
            "Epoch 3/12\n",
            "469/469 [==============================] - 6s 12ms/step - loss: 0.1419 - accuracy: 0.9588 - val_loss: 0.1351 - val_accuracy: 0.9610\n",
            "Epoch 4/12\n",
            "469/469 [==============================] - 6s 12ms/step - loss: 0.1079 - accuracy: 0.9681 - val_loss: 0.1120 - val_accuracy: 0.9642\n",
            "Epoch 5/12\n",
            "469/469 [==============================] - 6s 12ms/step - loss: 0.0841 - accuracy: 0.9753 - val_loss: 0.0910 - val_accuracy: 0.9710\n",
            "Epoch 6/12\n",
            "469/469 [==============================] - 6s 12ms/step - loss: 0.0654 - accuracy: 0.9803 - val_loss: 0.0986 - val_accuracy: 0.9687\n",
            "Epoch 7/12\n",
            "469/469 [==============================] - 6s 13ms/step - loss: 0.0531 - accuracy: 0.9834 - val_loss: 0.0710 - val_accuracy: 0.9775\n",
            "Epoch 8/12\n",
            "469/469 [==============================] - 6s 13ms/step - loss: 0.0410 - accuracy: 0.9877 - val_loss: 0.0784 - val_accuracy: 0.9763\n",
            "Epoch 9/12\n",
            "469/469 [==============================] - 6s 12ms/step - loss: 0.0347 - accuracy: 0.9898 - val_loss: 0.0711 - val_accuracy: 0.9774\n",
            "Epoch 10/12\n",
            "469/469 [==============================] - 6s 12ms/step - loss: 0.0276 - accuracy: 0.9918 - val_loss: 0.0740 - val_accuracy: 0.9786\n",
            "Epoch 11/12\n",
            "469/469 [==============================] - 6s 12ms/step - loss: 0.0213 - accuracy: 0.9940 - val_loss: 0.0753 - val_accuracy: 0.9787\n",
            "Epoch 12/12\n",
            "469/469 [==============================] - 6s 12ms/step - loss: 0.0195 - accuracy: 0.9941 - val_loss: 0.0707 - val_accuracy: 0.9803\n"
          ],
          "name": "stdout"
        }
      ]
    },
    {
      "cell_type": "code",
      "metadata": {
        "colab": {
          "base_uri": "https://localhost:8080/"
        },
        "id": "TCX12AyRNjLQ",
        "outputId": "d5d4f141-e173-4834-d14f-f6c7f07c4616"
      },
      "source": [
        " ## MLP + Relu + SGD \n",
        "\n",
        "from keras.layers.normalization import BatchNormalization\n",
        "from keras.layers import Dropout\n",
        "\n",
        "model_adm = Sequential()\n",
        "model_adm.add(Dense(512, activation='relu', input_shape=(input_dim, )))\n",
        "model_adm.add(Dense(256, activation='relu', kernel_initializer=RandomNormal(mean=0.0, stddev=0.06, seed=None)))\n",
        "model_adm.add(Dense(128, activation='relu'))\n",
        "##model.add(Dropout(0.3))\n",
        "model_adm.add(Dense(64, activation='relu'))\n",
        "model_adm.add(Dense(32, activation='relu'))\n",
        "model_adm.add(Dense(16, activation='relu'))\n",
        "##model.add(BatchNormalization())\n",
        "model_adm.add(Dense(8, activation='relu'))\n",
        "model_adm.add(Dense(output_dim, activation='softmax'))\n",
        "\n",
        "\n",
        "model_adm.summary()\n",
        "\n",
        "model_adm.compile(optimizer='adam', loss='categorical_crossentropy', metrics=['accuracy'])\n",
        "\n",
        "history = model_adm.fit(x_train, y_train, batch_size=batch_size, epochs=epochs, verbose=1, validation_data=(x_test, y_test))"
      ],
      "execution_count": 49,
      "outputs": [
        {
          "output_type": "stream",
          "text": [
            "Model: \"sequential_52\"\n",
            "_________________________________________________________________\n",
            "Layer (type)                 Output Shape              Param #   \n",
            "=================================================================\n",
            "dense_164 (Dense)            (None, 512)               401920    \n",
            "_________________________________________________________________\n",
            "dense_165 (Dense)            (None, 256)               131328    \n",
            "_________________________________________________________________\n",
            "dense_166 (Dense)            (None, 128)               32896     \n",
            "_________________________________________________________________\n",
            "dense_167 (Dense)            (None, 64)                8256      \n",
            "_________________________________________________________________\n",
            "dense_168 (Dense)            (None, 32)                2080      \n",
            "_________________________________________________________________\n",
            "dense_169 (Dense)            (None, 16)                528       \n",
            "_________________________________________________________________\n",
            "dense_170 (Dense)            (None, 8)                 136       \n",
            "_________________________________________________________________\n",
            "dense_171 (Dense)            (None, 10)                90        \n",
            "=================================================================\n",
            "Total params: 577,234\n",
            "Trainable params: 577,234\n",
            "Non-trainable params: 0\n",
            "_________________________________________________________________\n",
            "Epoch 1/12\n",
            "469/469 [==============================] - 6s 13ms/step - loss: 0.6234 - accuracy: 0.7829 - val_loss: 0.1809 - val_accuracy: 0.9547\n",
            "Epoch 2/12\n",
            "469/469 [==============================] - 6s 12ms/step - loss: 0.1296 - accuracy: 0.9660 - val_loss: 0.1243 - val_accuracy: 0.9684\n",
            "Epoch 3/12\n",
            "469/469 [==============================] - 6s 13ms/step - loss: 0.0842 - accuracy: 0.9767 - val_loss: 0.1195 - val_accuracy: 0.9686\n",
            "Epoch 4/12\n",
            "469/469 [==============================] - 6s 12ms/step - loss: 0.0623 - accuracy: 0.9826 - val_loss: 0.0990 - val_accuracy: 0.9759\n",
            "Epoch 5/12\n",
            "469/469 [==============================] - 6s 13ms/step - loss: 0.0457 - accuracy: 0.9870 - val_loss: 0.1038 - val_accuracy: 0.9748\n",
            "Epoch 6/12\n",
            "469/469 [==============================] - 6s 12ms/step - loss: 0.0349 - accuracy: 0.9898 - val_loss: 0.1023 - val_accuracy: 0.9776\n",
            "Epoch 7/12\n",
            "469/469 [==============================] - 6s 13ms/step - loss: 0.0343 - accuracy: 0.9897 - val_loss: 0.0957 - val_accuracy: 0.9782\n",
            "Epoch 8/12\n",
            "469/469 [==============================] - 6s 13ms/step - loss: 0.0285 - accuracy: 0.9916 - val_loss: 0.0970 - val_accuracy: 0.9797\n",
            "Epoch 9/12\n",
            "469/469 [==============================] - 6s 13ms/step - loss: 0.0229 - accuracy: 0.9934 - val_loss: 0.1214 - val_accuracy: 0.9753\n",
            "Epoch 10/12\n",
            "469/469 [==============================] - 6s 13ms/step - loss: 0.0226 - accuracy: 0.9934 - val_loss: 0.1211 - val_accuracy: 0.9761\n",
            "Epoch 11/12\n",
            "469/469 [==============================] - 6s 13ms/step - loss: 0.0212 - accuracy: 0.9939 - val_loss: 0.1011 - val_accuracy: 0.9793\n",
            "Epoch 12/12\n",
            "469/469 [==============================] - 6s 13ms/step - loss: 0.0169 - accuracy: 0.9949 - val_loss: 0.1204 - val_accuracy: 0.9791\n"
          ],
          "name": "stdout"
        }
      ]
    },
    {
      "cell_type": "code",
      "metadata": {
        "colab": {
          "base_uri": "https://localhost:8080/"
        },
        "id": "2AOrxFXXO_Jr",
        "outputId": "629a8748-9aa1-4311-c3d3-b98c62695ea0"
      },
      "source": [
        " ## MLP + Relu + SGD + BatchNOrmalization + Dropout \n",
        "\n",
        "from keras.layers.normalization import BatchNormalization\n",
        "from keras.layers import Dropout\n",
        "\n",
        "model_adm = Sequential()\n",
        "model_adm.add(Dense(512, activation='relu', input_shape=(input_dim, )))\n",
        "model_adm.add(Dense(256, activation='relu', kernel_initializer=RandomNormal(mean=0.0, stddev=0.06, seed=None)))\n",
        "model_adm.add(Dense(128, activation='relu', kernel_initializer=RandomNormal(mean=0.0, stddev=0.08, seed=None)))\n",
        "model.add(Dropout(0.5))\n",
        "model_adm.add(Dense(64, activation='relu', kernel_initializer=RandomNormal(mean=0.0, stddev=0.10, seed=None)))\n",
        "model_adm.add(Dense(32, activation='relu', kernel_initializer=RandomNormal(mean=0.0, stddev=0.125, seed=None)))\n",
        "model.add(Dropout(0.3))\n",
        "model_adm.add(Dense(16, activation='relu', kernel_initializer=RandomNormal(mean=0.0, stddev=0.25, seed=None)))\n",
        "model.add(BatchNormalization())\n",
        "model_adm.add(Dense(8, activation='relu', kernel_initializer=RandomNormal(mean=0.0, stddev=0.5, seed=None)))\n",
        "model_adm.add(Dense(output_dim, activation='softmax'))\n",
        "\n",
        "\n",
        "model_adm.summary()\n",
        "\n",
        "model_adm.compile(optimizer='adam', loss='categorical_crossentropy', metrics=['accuracy'])\n",
        "\n",
        "history = model_adm.fit(x_train, y_train, batch_size=batch_size, epochs=epochs, verbose=1, validation_data=(x_test, y_test))"
      ],
      "execution_count": 50,
      "outputs": [
        {
          "output_type": "stream",
          "text": [
            "Model: \"sequential_53\"\n",
            "_________________________________________________________________\n",
            "Layer (type)                 Output Shape              Param #   \n",
            "=================================================================\n",
            "dense_172 (Dense)            (None, 512)               401920    \n",
            "_________________________________________________________________\n",
            "dense_173 (Dense)            (None, 256)               131328    \n",
            "_________________________________________________________________\n",
            "dense_174 (Dense)            (None, 128)               32896     \n",
            "_________________________________________________________________\n",
            "dense_175 (Dense)            (None, 64)                8256      \n",
            "_________________________________________________________________\n",
            "dense_176 (Dense)            (None, 32)                2080      \n",
            "_________________________________________________________________\n",
            "dense_177 (Dense)            (None, 16)                528       \n",
            "_________________________________________________________________\n",
            "dense_178 (Dense)            (None, 8)                 136       \n",
            "_________________________________________________________________\n",
            "dense_179 (Dense)            (None, 10)                90        \n",
            "=================================================================\n",
            "Total params: 577,234\n",
            "Trainable params: 577,234\n",
            "Non-trainable params: 0\n",
            "_________________________________________________________________\n",
            "Epoch 1/12\n",
            "469/469 [==============================] - 6s 13ms/step - loss: 0.4312 - accuracy: 0.8676 - val_loss: 0.1620 - val_accuracy: 0.9575\n",
            "Epoch 2/12\n",
            "469/469 [==============================] - 6s 13ms/step - loss: 0.1263 - accuracy: 0.9664 - val_loss: 0.1200 - val_accuracy: 0.9686\n",
            "Epoch 3/12\n",
            "469/469 [==============================] - 6s 12ms/step - loss: 0.0823 - accuracy: 0.9777 - val_loss: 0.1147 - val_accuracy: 0.9687\n",
            "Epoch 4/12\n",
            "469/469 [==============================] - 6s 13ms/step - loss: 0.0626 - accuracy: 0.9825 - val_loss: 0.1069 - val_accuracy: 0.9734\n",
            "Epoch 5/12\n",
            "469/469 [==============================] - 6s 13ms/step - loss: 0.0485 - accuracy: 0.9860 - val_loss: 0.0958 - val_accuracy: 0.9755\n",
            "Epoch 6/12\n",
            "469/469 [==============================] - 6s 12ms/step - loss: 0.0411 - accuracy: 0.9876 - val_loss: 0.0953 - val_accuracy: 0.9754\n",
            "Epoch 7/12\n",
            "469/469 [==============================] - 6s 13ms/step - loss: 0.0328 - accuracy: 0.9905 - val_loss: 0.0996 - val_accuracy: 0.9782\n",
            "Epoch 8/12\n",
            "469/469 [==============================] - 6s 12ms/step - loss: 0.0275 - accuracy: 0.9924 - val_loss: 0.0990 - val_accuracy: 0.9773\n",
            "Epoch 9/12\n",
            "469/469 [==============================] - 6s 13ms/step - loss: 0.0288 - accuracy: 0.9918 - val_loss: 0.1073 - val_accuracy: 0.9757\n",
            "Epoch 10/12\n",
            "469/469 [==============================] - 6s 12ms/step - loss: 0.0275 - accuracy: 0.9923 - val_loss: 0.1025 - val_accuracy: 0.9770\n",
            "Epoch 11/12\n",
            "469/469 [==============================] - 6s 13ms/step - loss: 0.0177 - accuracy: 0.9947 - val_loss: 0.1023 - val_accuracy: 0.9776\n",
            "Epoch 12/12\n",
            "469/469 [==============================] - 6s 12ms/step - loss: 0.0179 - accuracy: 0.9944 - val_loss: 0.1020 - val_accuracy: 0.9804\n"
          ],
          "name": "stdout"
        }
      ]
    },
    {
      "cell_type": "code",
      "metadata": {
        "id": "LKchR582P2Cp"
      },
      "source": [
        "## Keras Hyper Param Tuning using SKLearn Wrapper . \n",
        "  \n",
        "from keras.optimizers import Adam, RMSprop, SGD\n",
        "\n",
        "def hyper_param(activ):\n",
        "  model = Sequential()\n",
        "  model.add(Dense(512, activation=activ, input_shape=(input_dim,), kernel_initializer=RandomNormal(mean=0.0, stddev=0.05, seed=None)))\n",
        "  model.add(Dense(128, activation=activ, kernel_initializer=RandomNormal(mean=0.0, stddev=0.05, seed=None)))\n",
        "  model.add(Dense(output_dim, activation='softmax'))\n",
        "  \n",
        "  model.compile(optimizer='adam', loss='categorical_crossentropy', metrics=['accuracy'], )\n",
        "  return model\n"
      ],
      "execution_count": 56,
      "outputs": []
    },
    {
      "cell_type": "code",
      "metadata": {
        "colab": {
          "base_uri": "https://localhost:8080/"
        },
        "id": "qra9sVdubf2S",
        "outputId": "167dfbc3-d519-4ce6-a2d2-6e8e4f8a565f"
      },
      "source": [
        "activ = ['sigmoid', 'relu', ]\n",
        "\n",
        "from keras.wrappers.scikit_learn import KerasClassifier\n",
        "from sklearn.model_selection import GridSearchCV\n",
        "\n",
        "model = KerasClassifier(build_fn=hyper_param)\n",
        "\n",
        "##param_grid = dict(activ=activ)\n",
        "param_grid = {'activ':['sigmoid', 'relu'], 'epochs':[12, ], }\n",
        "grid = GridSearchCV(estimator=model, param_grid=param_grid)\n",
        "grid_result = grid.fit(x_train, y_train)"
      ],
      "execution_count": 57,
      "outputs": [
        {
          "output_type": "stream",
          "text": [
            "Epoch 1/12\n",
            "1500/1500 [==============================] - 7s 5ms/step - loss: 0.3965 - accuracy: 0.8898\n",
            "Epoch 2/12\n",
            "1500/1500 [==============================] - 7s 5ms/step - loss: 0.1648 - accuracy: 0.9500\n",
            "Epoch 3/12\n",
            "1500/1500 [==============================] - 7s 5ms/step - loss: 0.1089 - accuracy: 0.9669\n",
            "Epoch 4/12\n",
            "1500/1500 [==============================] - 7s 5ms/step - loss: 0.0761 - accuracy: 0.9772\n",
            "Epoch 5/12\n",
            "1500/1500 [==============================] - 7s 5ms/step - loss: 0.0559 - accuracy: 0.9829\n",
            "Epoch 6/12\n",
            "1500/1500 [==============================] - 7s 5ms/step - loss: 0.0406 - accuracy: 0.9877\n",
            "Epoch 7/12\n",
            "1500/1500 [==============================] - 7s 5ms/step - loss: 0.0297 - accuracy: 0.9911\n",
            "Epoch 8/12\n",
            "1500/1500 [==============================] - 7s 5ms/step - loss: 0.0216 - accuracy: 0.9935\n",
            "Epoch 9/12\n",
            "1500/1500 [==============================] - 7s 5ms/step - loss: 0.0168 - accuracy: 0.9949\n",
            "Epoch 10/12\n",
            "1500/1500 [==============================] - 7s 5ms/step - loss: 0.0138 - accuracy: 0.9955\n",
            "Epoch 11/12\n",
            "1500/1500 [==============================] - 7s 5ms/step - loss: 0.0098 - accuracy: 0.9974\n",
            "Epoch 12/12\n",
            "1500/1500 [==============================] - 7s 5ms/step - loss: 0.0081 - accuracy: 0.9975\n",
            "375/375 [==============================] - 1s 2ms/step - loss: 0.0908 - accuracy: 0.9789\n",
            "Epoch 1/12\n",
            "1500/1500 [==============================] - 7s 5ms/step - loss: 0.3866 - accuracy: 0.8912\n",
            "Epoch 2/12\n",
            "1500/1500 [==============================] - 7s 5ms/step - loss: 0.1664 - accuracy: 0.9490\n",
            "Epoch 3/12\n",
            "1500/1500 [==============================] - 7s 5ms/step - loss: 0.1115 - accuracy: 0.9663\n",
            "Epoch 4/12\n",
            "1500/1500 [==============================] - 7s 5ms/step - loss: 0.0781 - accuracy: 0.9765\n",
            "Epoch 5/12\n",
            "1500/1500 [==============================] - 7s 5ms/step - loss: 0.0566 - accuracy: 0.9826\n",
            "Epoch 6/12\n",
            "1500/1500 [==============================] - 7s 5ms/step - loss: 0.0429 - accuracy: 0.9863\n",
            "Epoch 7/12\n",
            "1500/1500 [==============================] - 7s 5ms/step - loss: 0.0326 - accuracy: 0.9906\n",
            "Epoch 8/12\n",
            "1500/1500 [==============================] - 8s 5ms/step - loss: 0.0238 - accuracy: 0.9930\n",
            "Epoch 9/12\n",
            "1500/1500 [==============================] - 7s 5ms/step - loss: 0.0177 - accuracy: 0.9949\n",
            "Epoch 10/12\n",
            "1500/1500 [==============================] - 7s 5ms/step - loss: 0.0135 - accuracy: 0.9963\n",
            "Epoch 11/12\n",
            "1500/1500 [==============================] - 8s 5ms/step - loss: 0.0109 - accuracy: 0.9967\n",
            "Epoch 12/12\n",
            "1500/1500 [==============================] - 7s 5ms/step - loss: 0.0090 - accuracy: 0.9974\n",
            "375/375 [==============================] - 1s 2ms/step - loss: 0.0882 - accuracy: 0.9768\n",
            "Epoch 1/12\n",
            "1500/1500 [==============================] - 7s 5ms/step - loss: 0.3931 - accuracy: 0.8892\n",
            "Epoch 2/12\n",
            "1500/1500 [==============================] - 7s 5ms/step - loss: 0.1673 - accuracy: 0.9493\n",
            "Epoch 3/12\n",
            "1500/1500 [==============================] - 7s 5ms/step - loss: 0.1118 - accuracy: 0.9667\n",
            "Epoch 4/12\n",
            "1500/1500 [==============================] - 7s 5ms/step - loss: 0.0782 - accuracy: 0.9754\n",
            "Epoch 5/12\n",
            "1500/1500 [==============================] - 7s 5ms/step - loss: 0.0571 - accuracy: 0.9825\n",
            "Epoch 6/12\n",
            "1500/1500 [==============================] - 7s 5ms/step - loss: 0.0409 - accuracy: 0.9877\n",
            "Epoch 7/12\n",
            "1500/1500 [==============================] - 7s 5ms/step - loss: 0.0302 - accuracy: 0.9906\n",
            "Epoch 8/12\n",
            "1500/1500 [==============================] - 7s 5ms/step - loss: 0.0241 - accuracy: 0.9925\n",
            "Epoch 9/12\n",
            "1500/1500 [==============================] - 8s 5ms/step - loss: 0.0161 - accuracy: 0.9956\n",
            "Epoch 10/12\n",
            "1500/1500 [==============================] - 7s 5ms/step - loss: 0.0134 - accuracy: 0.9961\n",
            "Epoch 11/12\n",
            "1500/1500 [==============================] - 7s 5ms/step - loss: 0.0106 - accuracy: 0.9969\n",
            "Epoch 12/12\n",
            "1500/1500 [==============================] - 7s 5ms/step - loss: 0.0090 - accuracy: 0.9973\n",
            "375/375 [==============================] - 1s 2ms/step - loss: 0.1008 - accuracy: 0.9737\n",
            "Epoch 1/12\n",
            "1500/1500 [==============================] - 7s 5ms/step - loss: 0.3836 - accuracy: 0.8929\n",
            "Epoch 2/12\n",
            "1500/1500 [==============================] - 7s 5ms/step - loss: 0.1633 - accuracy: 0.9509\n",
            "Epoch 3/12\n",
            "1500/1500 [==============================] - 7s 5ms/step - loss: 0.1060 - accuracy: 0.9677\n",
            "Epoch 4/12\n",
            "1500/1500 [==============================] - 7s 5ms/step - loss: 0.0746 - accuracy: 0.9775\n",
            "Epoch 5/12\n",
            "1500/1500 [==============================] - 7s 5ms/step - loss: 0.0552 - accuracy: 0.9833\n",
            "Epoch 6/12\n",
            "1500/1500 [==============================] - 7s 5ms/step - loss: 0.0402 - accuracy: 0.9879\n",
            "Epoch 7/12\n",
            "1500/1500 [==============================] - 7s 5ms/step - loss: 0.0282 - accuracy: 0.9918\n",
            "Epoch 8/12\n",
            "1500/1500 [==============================] - 7s 5ms/step - loss: 0.0212 - accuracy: 0.9941\n",
            "Epoch 9/12\n",
            "1500/1500 [==============================] - 7s 5ms/step - loss: 0.0164 - accuracy: 0.9951\n",
            "Epoch 10/12\n",
            "1500/1500 [==============================] - 7s 5ms/step - loss: 0.0131 - accuracy: 0.9961\n",
            "Epoch 11/12\n",
            "1500/1500 [==============================] - 7s 5ms/step - loss: 0.0088 - accuracy: 0.9973\n",
            "Epoch 12/12\n",
            "1500/1500 [==============================] - 7s 5ms/step - loss: 0.0078 - accuracy: 0.9977\n",
            "375/375 [==============================] - 1s 2ms/step - loss: 0.1068 - accuracy: 0.9743\n",
            "Epoch 1/12\n",
            "1500/1500 [==============================] - 7s 5ms/step - loss: 0.3890 - accuracy: 0.8917\n",
            "Epoch 2/12\n",
            "1500/1500 [==============================] - 7s 5ms/step - loss: 0.1662 - accuracy: 0.9494\n",
            "Epoch 3/12\n",
            "1500/1500 [==============================] - 7s 5ms/step - loss: 0.1097 - accuracy: 0.9669\n",
            "Epoch 4/12\n",
            "1500/1500 [==============================] - 7s 5ms/step - loss: 0.0755 - accuracy: 0.9766\n",
            "Epoch 5/12\n",
            "1500/1500 [==============================] - 7s 5ms/step - loss: 0.0550 - accuracy: 0.9833\n",
            "Epoch 6/12\n",
            "1500/1500 [==============================] - 7s 5ms/step - loss: 0.0405 - accuracy: 0.9873\n",
            "Epoch 7/12\n",
            "1500/1500 [==============================] - 7s 5ms/step - loss: 0.0286 - accuracy: 0.9917\n",
            "Epoch 8/12\n",
            "1500/1500 [==============================] - 7s 5ms/step - loss: 0.0211 - accuracy: 0.9939\n",
            "Epoch 9/12\n",
            "1500/1500 [==============================] - 7s 5ms/step - loss: 0.0168 - accuracy: 0.9950\n",
            "Epoch 10/12\n",
            "1500/1500 [==============================] - 7s 5ms/step - loss: 0.0131 - accuracy: 0.9961\n",
            "Epoch 11/12\n",
            "1500/1500 [==============================] - 7s 5ms/step - loss: 0.0104 - accuracy: 0.9969\n",
            "Epoch 12/12\n",
            "1500/1500 [==============================] - 7s 5ms/step - loss: 0.0080 - accuracy: 0.9975\n",
            "375/375 [==============================] - 1s 2ms/step - loss: 0.0905 - accuracy: 0.9781\n",
            "Epoch 1/12\n",
            "1500/1500 [==============================] - 7s 5ms/step - loss: 0.2128 - accuracy: 0.9355\n",
            "Epoch 2/12\n",
            "1500/1500 [==============================] - 8s 5ms/step - loss: 0.0855 - accuracy: 0.9738\n",
            "Epoch 3/12\n",
            "1500/1500 [==============================] - 8s 5ms/step - loss: 0.0573 - accuracy: 0.9816\n",
            "Epoch 4/12\n",
            "1500/1500 [==============================] - 7s 5ms/step - loss: 0.0414 - accuracy: 0.9858\n",
            "Epoch 5/12\n",
            "1500/1500 [==============================] - 8s 5ms/step - loss: 0.0328 - accuracy: 0.9893\n",
            "Epoch 6/12\n",
            "1500/1500 [==============================] - 7s 5ms/step - loss: 0.0262 - accuracy: 0.9912\n",
            "Epoch 7/12\n",
            "1500/1500 [==============================] - 7s 5ms/step - loss: 0.0199 - accuracy: 0.9942\n",
            "Epoch 8/12\n",
            "1500/1500 [==============================] - 7s 5ms/step - loss: 0.0197 - accuracy: 0.9936\n",
            "Epoch 9/12\n",
            "1500/1500 [==============================] - 7s 5ms/step - loss: 0.0191 - accuracy: 0.9938\n",
            "Epoch 10/12\n",
            "1500/1500 [==============================] - 7s 5ms/step - loss: 0.0161 - accuracy: 0.9947\n",
            "Epoch 11/12\n",
            "1500/1500 [==============================] - 7s 5ms/step - loss: 0.0140 - accuracy: 0.9957\n",
            "Epoch 12/12\n",
            "1500/1500 [==============================] - 7s 5ms/step - loss: 0.0149 - accuracy: 0.9952\n",
            "375/375 [==============================] - 1s 2ms/step - loss: 0.1065 - accuracy: 0.9787\n",
            "Epoch 1/12\n",
            "1500/1500 [==============================] - 7s 5ms/step - loss: 0.2086 - accuracy: 0.9377\n",
            "Epoch 2/12\n",
            "1500/1500 [==============================] - 7s 5ms/step - loss: 0.0847 - accuracy: 0.9732\n",
            "Epoch 3/12\n",
            "1500/1500 [==============================] - 7s 5ms/step - loss: 0.0576 - accuracy: 0.9818\n",
            "Epoch 4/12\n",
            "1500/1500 [==============================] - 7s 5ms/step - loss: 0.0435 - accuracy: 0.9851\n",
            "Epoch 5/12\n",
            "1500/1500 [==============================] - 7s 5ms/step - loss: 0.0332 - accuracy: 0.9890\n",
            "Epoch 6/12\n",
            "1500/1500 [==============================] - 7s 5ms/step - loss: 0.0267 - accuracy: 0.9911\n",
            "Epoch 7/12\n",
            "1500/1500 [==============================] - 7s 5ms/step - loss: 0.0277 - accuracy: 0.9910\n",
            "Epoch 8/12\n",
            "1500/1500 [==============================] - 7s 5ms/step - loss: 0.0198 - accuracy: 0.9936\n",
            "Epoch 9/12\n",
            "1500/1500 [==============================] - 7s 5ms/step - loss: 0.0152 - accuracy: 0.9951\n",
            "Epoch 10/12\n",
            "1500/1500 [==============================] - 7s 5ms/step - loss: 0.0177 - accuracy: 0.9942\n",
            "Epoch 11/12\n",
            "1500/1500 [==============================] - 7s 5ms/step - loss: 0.0156 - accuracy: 0.9952\n",
            "Epoch 12/12\n",
            "1500/1500 [==============================] - 7s 5ms/step - loss: 0.0144 - accuracy: 0.9953\n",
            "375/375 [==============================] - 1s 2ms/step - loss: 0.0949 - accuracy: 0.9788\n",
            "Epoch 1/12\n",
            "1500/1500 [==============================] - 7s 5ms/step - loss: 0.2097 - accuracy: 0.9366\n",
            "Epoch 2/12\n",
            "1500/1500 [==============================] - 7s 5ms/step - loss: 0.0852 - accuracy: 0.9728\n",
            "Epoch 3/12\n",
            "1500/1500 [==============================] - 7s 5ms/step - loss: 0.0542 - accuracy: 0.9824\n",
            "Epoch 4/12\n",
            "1500/1500 [==============================] - 7s 5ms/step - loss: 0.0423 - accuracy: 0.9858\n",
            "Epoch 5/12\n",
            "1500/1500 [==============================] - 8s 5ms/step - loss: 0.0321 - accuracy: 0.9895\n",
            "Epoch 6/12\n",
            "1500/1500 [==============================] - 7s 5ms/step - loss: 0.0264 - accuracy: 0.9911\n",
            "Epoch 7/12\n",
            "1500/1500 [==============================] - 8s 5ms/step - loss: 0.0246 - accuracy: 0.9919\n",
            "Epoch 8/12\n",
            "1500/1500 [==============================] - 7s 5ms/step - loss: 0.0183 - accuracy: 0.9941\n",
            "Epoch 9/12\n",
            "1500/1500 [==============================] - 8s 5ms/step - loss: 0.0167 - accuracy: 0.9945\n",
            "Epoch 10/12\n",
            "1500/1500 [==============================] - 8s 5ms/step - loss: 0.0171 - accuracy: 0.9945\n",
            "Epoch 11/12\n",
            "1500/1500 [==============================] - 8s 5ms/step - loss: 0.0150 - accuracy: 0.9954\n",
            "Epoch 12/12\n",
            "1500/1500 [==============================] - 8s 5ms/step - loss: 0.0126 - accuracy: 0.9959\n",
            "375/375 [==============================] - 1s 2ms/step - loss: 0.1467 - accuracy: 0.9743\n",
            "Epoch 1/12\n",
            "1500/1500 [==============================] - 7s 5ms/step - loss: 0.2060 - accuracy: 0.9376\n",
            "Epoch 2/12\n",
            "1500/1500 [==============================] - 7s 5ms/step - loss: 0.0822 - accuracy: 0.9738\n",
            "Epoch 3/12\n",
            "1500/1500 [==============================] - 7s 5ms/step - loss: 0.0537 - accuracy: 0.9828\n",
            "Epoch 4/12\n",
            "1500/1500 [==============================] - 7s 5ms/step - loss: 0.0411 - accuracy: 0.9865\n",
            "Epoch 5/12\n",
            "1500/1500 [==============================] - 7s 5ms/step - loss: 0.0321 - accuracy: 0.9894\n",
            "Epoch 6/12\n",
            "1500/1500 [==============================] - 7s 5ms/step - loss: 0.0235 - accuracy: 0.9921\n",
            "Epoch 7/12\n",
            "1500/1500 [==============================] - 8s 5ms/step - loss: 0.0213 - accuracy: 0.9934\n",
            "Epoch 8/12\n",
            "1500/1500 [==============================] - 8s 5ms/step - loss: 0.0227 - accuracy: 0.9927\n",
            "Epoch 9/12\n",
            "1500/1500 [==============================] - 7s 5ms/step - loss: 0.0145 - accuracy: 0.9954\n",
            "Epoch 10/12\n",
            "1500/1500 [==============================] - 7s 5ms/step - loss: 0.0157 - accuracy: 0.9949\n",
            "Epoch 11/12\n",
            "1500/1500 [==============================] - 7s 5ms/step - loss: 0.0155 - accuracy: 0.9955\n",
            "Epoch 12/12\n",
            "1500/1500 [==============================] - 7s 5ms/step - loss: 0.0160 - accuracy: 0.9954\n",
            "375/375 [==============================] - 1s 2ms/step - loss: 0.1268 - accuracy: 0.9750\n",
            "Epoch 1/12\n",
            "1500/1500 [==============================] - 7s 5ms/step - loss: 0.2100 - accuracy: 0.9365\n",
            "Epoch 2/12\n",
            "1500/1500 [==============================] - 7s 5ms/step - loss: 0.0849 - accuracy: 0.9731\n",
            "Epoch 3/12\n",
            "1500/1500 [==============================] - 7s 5ms/step - loss: 0.0553 - accuracy: 0.9820\n",
            "Epoch 4/12\n",
            "1500/1500 [==============================] - 7s 5ms/step - loss: 0.0425 - accuracy: 0.9870\n",
            "Epoch 5/12\n",
            "1500/1500 [==============================] - 7s 5ms/step - loss: 0.0312 - accuracy: 0.9899\n",
            "Epoch 6/12\n",
            "1500/1500 [==============================] - 7s 5ms/step - loss: 0.0268 - accuracy: 0.9918\n",
            "Epoch 7/12\n",
            "1500/1500 [==============================] - 7s 5ms/step - loss: 0.0221 - accuracy: 0.9927\n",
            "Epoch 8/12\n",
            "1500/1500 [==============================] - 7s 5ms/step - loss: 0.0201 - accuracy: 0.9935\n",
            "Epoch 9/12\n",
            "1500/1500 [==============================] - 7s 5ms/step - loss: 0.0162 - accuracy: 0.9947\n",
            "Epoch 10/12\n",
            "1500/1500 [==============================] - 7s 5ms/step - loss: 0.0163 - accuracy: 0.9944\n",
            "Epoch 11/12\n",
            "1500/1500 [==============================] - 7s 5ms/step - loss: 0.0173 - accuracy: 0.9945\n",
            "Epoch 12/12\n",
            "1500/1500 [==============================] - 7s 5ms/step - loss: 0.0132 - accuracy: 0.9959\n",
            "375/375 [==============================] - 1s 2ms/step - loss: 0.1036 - accuracy: 0.9797\n",
            "Epoch 1/12\n",
            "1875/1875 [==============================] - 9s 5ms/step - loss: 0.1891 - accuracy: 0.9420\n",
            "Epoch 2/12\n",
            "1875/1875 [==============================] - 9s 5ms/step - loss: 0.0780 - accuracy: 0.9759\n",
            "Epoch 3/12\n",
            "1875/1875 [==============================] - 9s 5ms/step - loss: 0.0556 - accuracy: 0.9822\n",
            "Epoch 4/12\n",
            "1875/1875 [==============================] - 9s 5ms/step - loss: 0.0405 - accuracy: 0.9874\n",
            "Epoch 5/12\n",
            "1875/1875 [==============================] - 9s 5ms/step - loss: 0.0325 - accuracy: 0.9893\n",
            "Epoch 6/12\n",
            "1875/1875 [==============================] - 9s 5ms/step - loss: 0.0262 - accuracy: 0.9915\n",
            "Epoch 7/12\n",
            "1875/1875 [==============================] - 9s 5ms/step - loss: 0.0220 - accuracy: 0.9927\n",
            "Epoch 8/12\n",
            "1875/1875 [==============================] - 9s 5ms/step - loss: 0.0190 - accuracy: 0.9937\n",
            "Epoch 9/12\n",
            "1875/1875 [==============================] - 9s 5ms/step - loss: 0.0182 - accuracy: 0.9941\n",
            "Epoch 10/12\n",
            "1875/1875 [==============================] - 9s 5ms/step - loss: 0.0163 - accuracy: 0.9948\n",
            "Epoch 11/12\n",
            "1875/1875 [==============================] - 9s 5ms/step - loss: 0.0161 - accuracy: 0.9947\n",
            "Epoch 12/12\n",
            "1875/1875 [==============================] - 9s 5ms/step - loss: 0.0135 - accuracy: 0.9959\n"
          ],
          "name": "stdout"
        }
      ]
    },
    {
      "cell_type": "code",
      "metadata": {
        "colab": {
          "base_uri": "https://localhost:8080/"
        },
        "id": "c-jyptnudwd5",
        "outputId": "a01eb50f-03ae-4c71-f7ed-59354de4d86f"
      },
      "source": [
        "print (\"Best Model : \", grid_result.best_score_, grid_result.best_params_)\n",
        "mns = grid_result.cv_results_['mean_test_score']\n",
        "stds = grid_result.cv_results_['std_test_score']\n",
        "params = grid_result.cv_results_['params']\n",
        "\n",
        "for mean, std, param in zip(mns, stds, params):\n",
        "  print (mean, std, param)"
      ],
      "execution_count": 60,
      "outputs": [
        {
          "output_type": "stream",
          "text": [
            "Best Model :  0.9773333311080933 {'activ': 'relu', 'epochs': 12}\n",
            "0.9763833284378052 0.002032093732623829 {'activ': 'sigmoid', 'epochs': 12}\n",
            "0.9773333311080933 0.0022154592297583685 {'activ': 'relu', 'epochs': 12}\n"
          ],
          "name": "stdout"
        }
      ]
    },
    {
      "cell_type": "code",
      "metadata": {
        "id": "JMtSxXMIx6Nv"
      },
      "source": [
        ""
      ],
      "execution_count": null,
      "outputs": []
    }
  ]
}