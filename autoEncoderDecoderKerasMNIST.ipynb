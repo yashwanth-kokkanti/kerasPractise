{
  "nbformat": 4,
  "nbformat_minor": 0,
  "metadata": {
    "colab": {
      "name": "Untitled3.ipynb",
      "provenance": [],
      "authorship_tag": "ABX9TyPFWXgLTN+7yMBDgfH1J6E2",
      "include_colab_link": true
    },
    "kernelspec": {
      "name": "python3",
      "display_name": "Python 3"
    },
    "accelerator": "GPU"
  },
  "cells": [
    {
      "cell_type": "markdown",
      "metadata": {
        "id": "view-in-github",
        "colab_type": "text"
      },
      "source": [
        "<a href=\"https://colab.research.google.com/github/yashwanth-kokkanti/kerasPractise/blob/main/autoEncoderDecoderKerasMNIST.ipynb\" target=\"_parent\"><img src=\"https://colab.research.google.com/assets/colab-badge.svg\" alt=\"Open In Colab\"/></a>"
      ]
    },
    {
      "cell_type": "code",
      "metadata": {
        "id": "WGwIhfeThEYH"
      },
      "source": [
        "## This example demonstrates AutoEncoder Decoder using MNIST data \n",
        "\n",
        "from tensorflow.keras.models import Model\n",
        "from tensorflow.keras.layers import Dense, Input, Dropout, Conv2D, MaxPooling2D, UpSampling2D\n",
        "\n",
        "from tensorflow.keras import backend as k \n",
        "from tensorflow.keras.datasets import mnist \n",
        "\n",
        "import matplotlib.pyplot as plt\n",
        "import numpy as np"
      ],
      "execution_count": 1,
      "outputs": []
    },
    {
      "cell_type": "code",
      "metadata": {
        "colab": {
          "base_uri": "https://localhost:8080/"
        },
        "id": "jXzxC-lXhdRD",
        "outputId": "a5dd2734-145a-4e54-c922-7c70f026d5bc"
      },
      "source": [
        "(x_train, y_train ), (x_test, y_test) = mnist.load_data()\n",
        "\n",
        "## Converting into Float and normalizing RGB code by dividing with 255 \n",
        "\n",
        "x_train = x_train.astype('float32') / 255\n",
        "x_test = x_test.astype('float32') / 255\n",
        "\n",
        "## Reshape the input from (28, 28 ) tuple to (28, 28, 1)\n",
        "\n",
        "x_train = np.reshape(x_train, (len(x_train), 28, 28, 1))\n",
        "x_test = np.reshape(x_test, (len(x_test), 28, 28, 1))\n",
        "\n",
        "print (x_train.shape, x_test.shape)"
      ],
      "execution_count": 2,
      "outputs": [
        {
          "output_type": "stream",
          "text": [
            "Downloading data from https://storage.googleapis.com/tensorflow/tf-keras-datasets/mnist.npz\n",
            "11493376/11490434 [==============================] - 1s 0us/step\n",
            "(60000, 28, 28, 1) (10000, 28, 28, 1)\n"
          ],
          "name": "stdout"
        }
      ]
    },
    {
      "cell_type": "code",
      "metadata": {
        "id": "tBnFOa9LiLlW"
      },
      "source": [
        "input_img = Input(shape=(28, 28, 1))\n",
        "\n",
        "## Encoding Shape \n",
        "x = Conv2D(16, (3, 3), activation='relu', padding='same',)(input_img)\n",
        "x = MaxPooling2D((2, 2), padding='same')(x)\n",
        "x = Conv2D(8, (3, 3), activation='relu', padding='same',)(x)\n",
        "x = MaxPooling2D((2, 2), padding='same')(x)\n",
        "x = Conv2D(8, (3, 3), activation='relu', padding='same',)(x)\n",
        "encoded = MaxPooling2D((2, 2), padding='same')(x)\n",
        "\n",
        "## Decoding section \n",
        "x = Conv2D(8, (3, 3), activation='relu', padding='same',)(encoded)\n",
        "x = UpSampling2D((2, 2))(x)\n",
        "x = Conv2D(8, (3, 3), activation='relu', padding='same',)(x)\n",
        "x = UpSampling2D((2, 2))(x)\n",
        "x = Conv2D(16, (3, 3), activation='relu')(x)\n",
        "x = UpSampling2D((2, 2))(x)\n",
        "decoded = Conv2D(1, (3, 3), activation='sigmoid', padding='same')(x)\n",
        "\n",
        "autoencoder = Model(input_img, decoded)\n",
        "autoencoder.compile(optimizer='adam', loss='binary_crossentropy', metrics=['accuracy'])\n",
        "\n",
        "\n"
      ],
      "execution_count": 3,
      "outputs": []
    },
    {
      "cell_type": "code",
      "metadata": {
        "colab": {
          "base_uri": "https://localhost:8080/"
        },
        "id": "jkMiEmd6j-NK",
        "outputId": "bca22d16-bb6c-4dcf-a253-38c5a44d1a42"
      },
      "source": [
        "autoencoder.fit(x_train, x_train, epochs=100, batch_size=64, shuffle=True, validation_data=(x_test, x_test))"
      ],
      "execution_count": 4,
      "outputs": [
        {
          "output_type": "stream",
          "text": [
            "Epoch 1/100\n",
            "938/938 [==============================] - 8s 9ms/step - loss: 0.1766 - accuracy: 0.7990 - val_loss: 0.1338 - val_accuracy: 0.8050\n",
            "Epoch 2/100\n",
            "938/938 [==============================] - 7s 8ms/step - loss: 0.1258 - accuracy: 0.8068 - val_loss: 0.1180 - val_accuracy: 0.8076\n",
            "Epoch 3/100\n",
            "938/938 [==============================] - 7s 8ms/step - loss: 0.1151 - accuracy: 0.8092 - val_loss: 0.1111 - val_accuracy: 0.8086\n",
            "Epoch 4/100\n",
            "938/938 [==============================] - 7s 8ms/step - loss: 0.1097 - accuracy: 0.8103 - val_loss: 0.1067 - val_accuracy: 0.8097\n",
            "Epoch 5/100\n",
            "938/938 [==============================] - 7s 8ms/step - loss: 0.1066 - accuracy: 0.8109 - val_loss: 0.1042 - val_accuracy: 0.8101\n",
            "Epoch 6/100\n",
            "938/938 [==============================] - 7s 8ms/step - loss: 0.1044 - accuracy: 0.8113 - val_loss: 0.1025 - val_accuracy: 0.8108\n",
            "Epoch 7/100\n",
            "938/938 [==============================] - 7s 8ms/step - loss: 0.1027 - accuracy: 0.8116 - val_loss: 0.1009 - val_accuracy: 0.8108\n",
            "Epoch 8/100\n",
            "938/938 [==============================] - 7s 8ms/step - loss: 0.1013 - accuracy: 0.8118 - val_loss: 0.0994 - val_accuracy: 0.8109\n",
            "Epoch 9/100\n",
            "938/938 [==============================] - 8s 8ms/step - loss: 0.1002 - accuracy: 0.8120 - val_loss: 0.0988 - val_accuracy: 0.8108\n",
            "Epoch 10/100\n",
            "938/938 [==============================] - 8s 9ms/step - loss: 0.0993 - accuracy: 0.8122 - val_loss: 0.0976 - val_accuracy: 0.8114\n",
            "Epoch 11/100\n",
            "938/938 [==============================] - 8s 9ms/step - loss: 0.0984 - accuracy: 0.8123 - val_loss: 0.0969 - val_accuracy: 0.8115\n",
            "Epoch 12/100\n",
            "938/938 [==============================] - 8s 9ms/step - loss: 0.0977 - accuracy: 0.8125 - val_loss: 0.0963 - val_accuracy: 0.8114\n",
            "Epoch 13/100\n",
            "938/938 [==============================] - 8s 9ms/step - loss: 0.0970 - accuracy: 0.8126 - val_loss: 0.0961 - val_accuracy: 0.8116\n",
            "Epoch 14/100\n",
            "938/938 [==============================] - 8s 9ms/step - loss: 0.0964 - accuracy: 0.8127 - val_loss: 0.0956 - val_accuracy: 0.8121\n",
            "Epoch 15/100\n",
            "938/938 [==============================] - 8s 9ms/step - loss: 0.0959 - accuracy: 0.8127 - val_loss: 0.0946 - val_accuracy: 0.8120\n",
            "Epoch 16/100\n",
            "938/938 [==============================] - 8s 9ms/step - loss: 0.0954 - accuracy: 0.8128 - val_loss: 0.0939 - val_accuracy: 0.8120\n",
            "Epoch 17/100\n",
            "938/938 [==============================] - 8s 9ms/step - loss: 0.0950 - accuracy: 0.8129 - val_loss: 0.0935 - val_accuracy: 0.8120\n",
            "Epoch 18/100\n",
            "938/938 [==============================] - 8s 9ms/step - loss: 0.0946 - accuracy: 0.8130 - val_loss: 0.0938 - val_accuracy: 0.8116\n",
            "Epoch 19/100\n",
            "938/938 [==============================] - 8s 9ms/step - loss: 0.0942 - accuracy: 0.8130 - val_loss: 0.0932 - val_accuracy: 0.8121\n",
            "Epoch 20/100\n",
            "938/938 [==============================] - 8s 9ms/step - loss: 0.0939 - accuracy: 0.8131 - val_loss: 0.0927 - val_accuracy: 0.8119\n",
            "Epoch 21/100\n",
            "938/938 [==============================] - 8s 9ms/step - loss: 0.0936 - accuracy: 0.8131 - val_loss: 0.0925 - val_accuracy: 0.8120\n",
            "Epoch 22/100\n",
            "938/938 [==============================] - 8s 9ms/step - loss: 0.0933 - accuracy: 0.8132 - val_loss: 0.0920 - val_accuracy: 0.8122\n",
            "Epoch 23/100\n",
            "938/938 [==============================] - 8s 9ms/step - loss: 0.0931 - accuracy: 0.8132 - val_loss: 0.0919 - val_accuracy: 0.8124\n",
            "Epoch 24/100\n",
            "938/938 [==============================] - 8s 9ms/step - loss: 0.0928 - accuracy: 0.8132 - val_loss: 0.0915 - val_accuracy: 0.8124\n",
            "Epoch 25/100\n",
            "938/938 [==============================] - 8s 9ms/step - loss: 0.0926 - accuracy: 0.8133 - val_loss: 0.0916 - val_accuracy: 0.8123\n",
            "Epoch 26/100\n",
            "938/938 [==============================] - 8s 9ms/step - loss: 0.0924 - accuracy: 0.8133 - val_loss: 0.0913 - val_accuracy: 0.8123\n",
            "Epoch 27/100\n",
            "938/938 [==============================] - 8s 9ms/step - loss: 0.0921 - accuracy: 0.8134 - val_loss: 0.0913 - val_accuracy: 0.8127\n",
            "Epoch 28/100\n",
            "938/938 [==============================] - 8s 9ms/step - loss: 0.0920 - accuracy: 0.8134 - val_loss: 0.0908 - val_accuracy: 0.8124\n",
            "Epoch 29/100\n",
            "938/938 [==============================] - 8s 8ms/step - loss: 0.0918 - accuracy: 0.8134 - val_loss: 0.0917 - val_accuracy: 0.8129\n",
            "Epoch 30/100\n",
            "938/938 [==============================] - 8s 9ms/step - loss: 0.0915 - accuracy: 0.8135 - val_loss: 0.0910 - val_accuracy: 0.8124\n",
            "Epoch 31/100\n",
            "938/938 [==============================] - 8s 9ms/step - loss: 0.0914 - accuracy: 0.8135 - val_loss: 0.0907 - val_accuracy: 0.8125\n",
            "Epoch 32/100\n",
            "938/938 [==============================] - 8s 9ms/step - loss: 0.0912 - accuracy: 0.8135 - val_loss: 0.0909 - val_accuracy: 0.8127\n",
            "Epoch 33/100\n",
            "938/938 [==============================] - 8s 9ms/step - loss: 0.0910 - accuracy: 0.8135 - val_loss: 0.0898 - val_accuracy: 0.8125\n",
            "Epoch 34/100\n",
            "938/938 [==============================] - 8s 8ms/step - loss: 0.0909 - accuracy: 0.8136 - val_loss: 0.0899 - val_accuracy: 0.8127\n",
            "Epoch 35/100\n",
            "938/938 [==============================] - 8s 9ms/step - loss: 0.0907 - accuracy: 0.8136 - val_loss: 0.0894 - val_accuracy: 0.8126\n",
            "Epoch 36/100\n",
            "938/938 [==============================] - 8s 9ms/step - loss: 0.0905 - accuracy: 0.8136 - val_loss: 0.0896 - val_accuracy: 0.8129\n",
            "Epoch 37/100\n",
            "938/938 [==============================] - 8s 9ms/step - loss: 0.0903 - accuracy: 0.8136 - val_loss: 0.0892 - val_accuracy: 0.8128\n",
            "Epoch 38/100\n",
            "938/938 [==============================] - 8s 9ms/step - loss: 0.0902 - accuracy: 0.8136 - val_loss: 0.0894 - val_accuracy: 0.8128\n",
            "Epoch 39/100\n",
            "938/938 [==============================] - 8s 9ms/step - loss: 0.0900 - accuracy: 0.8137 - val_loss: 0.0891 - val_accuracy: 0.8127\n",
            "Epoch 40/100\n",
            "938/938 [==============================] - 8s 9ms/step - loss: 0.0899 - accuracy: 0.8137 - val_loss: 0.0888 - val_accuracy: 0.8126\n",
            "Epoch 41/100\n",
            "938/938 [==============================] - 8s 9ms/step - loss: 0.0897 - accuracy: 0.8137 - val_loss: 0.0888 - val_accuracy: 0.8129\n",
            "Epoch 42/100\n",
            "938/938 [==============================] - 8s 9ms/step - loss: 0.0896 - accuracy: 0.8137 - val_loss: 0.0886 - val_accuracy: 0.8128\n",
            "Epoch 43/100\n",
            "938/938 [==============================] - 8s 9ms/step - loss: 0.0894 - accuracy: 0.8137 - val_loss: 0.0890 - val_accuracy: 0.8125\n",
            "Epoch 44/100\n",
            "938/938 [==============================] - 8s 9ms/step - loss: 0.0893 - accuracy: 0.8137 - val_loss: 0.0892 - val_accuracy: 0.8126\n",
            "Epoch 45/100\n",
            "938/938 [==============================] - 8s 9ms/step - loss: 0.0891 - accuracy: 0.8138 - val_loss: 0.0882 - val_accuracy: 0.8127\n",
            "Epoch 46/100\n",
            "938/938 [==============================] - 8s 9ms/step - loss: 0.0890 - accuracy: 0.8138 - val_loss: 0.0882 - val_accuracy: 0.8125\n",
            "Epoch 47/100\n",
            "938/938 [==============================] - 8s 9ms/step - loss: 0.0889 - accuracy: 0.8138 - val_loss: 0.0885 - val_accuracy: 0.8132\n",
            "Epoch 48/100\n",
            "938/938 [==============================] - 9s 9ms/step - loss: 0.0889 - accuracy: 0.8138 - val_loss: 0.0879 - val_accuracy: 0.8127\n",
            "Epoch 49/100\n",
            "938/938 [==============================] - 8s 9ms/step - loss: 0.0887 - accuracy: 0.8138 - val_loss: 0.0881 - val_accuracy: 0.8128\n",
            "Epoch 50/100\n",
            "938/938 [==============================] - 8s 9ms/step - loss: 0.0886 - accuracy: 0.8138 - val_loss: 0.0877 - val_accuracy: 0.8130\n",
            "Epoch 51/100\n",
            "938/938 [==============================] - 8s 9ms/step - loss: 0.0885 - accuracy: 0.8138 - val_loss: 0.0877 - val_accuracy: 0.8130\n",
            "Epoch 52/100\n",
            "938/938 [==============================] - 8s 9ms/step - loss: 0.0884 - accuracy: 0.8138 - val_loss: 0.0875 - val_accuracy: 0.8130\n",
            "Epoch 53/100\n",
            "938/938 [==============================] - 8s 9ms/step - loss: 0.0884 - accuracy: 0.8139 - val_loss: 0.0875 - val_accuracy: 0.8129\n",
            "Epoch 54/100\n",
            "938/938 [==============================] - 8s 9ms/step - loss: 0.0883 - accuracy: 0.8139 - val_loss: 0.0873 - val_accuracy: 0.8129\n",
            "Epoch 55/100\n",
            "938/938 [==============================] - 8s 9ms/step - loss: 0.0882 - accuracy: 0.8139 - val_loss: 0.0884 - val_accuracy: 0.8124\n",
            "Epoch 56/100\n",
            "938/938 [==============================] - 8s 9ms/step - loss: 0.0881 - accuracy: 0.8139 - val_loss: 0.0871 - val_accuracy: 0.8128\n",
            "Epoch 57/100\n",
            "938/938 [==============================] - 8s 9ms/step - loss: 0.0881 - accuracy: 0.8139 - val_loss: 0.0870 - val_accuracy: 0.8130\n",
            "Epoch 58/100\n",
            "938/938 [==============================] - 8s 9ms/step - loss: 0.0880 - accuracy: 0.8139 - val_loss: 0.0870 - val_accuracy: 0.8131\n",
            "Epoch 59/100\n",
            "938/938 [==============================] - 8s 9ms/step - loss: 0.0879 - accuracy: 0.8139 - val_loss: 0.0870 - val_accuracy: 0.8129\n",
            "Epoch 60/100\n",
            "938/938 [==============================] - 8s 9ms/step - loss: 0.0879 - accuracy: 0.8139 - val_loss: 0.0867 - val_accuracy: 0.8131\n",
            "Epoch 61/100\n",
            "938/938 [==============================] - 8s 9ms/step - loss: 0.0878 - accuracy: 0.8139 - val_loss: 0.0867 - val_accuracy: 0.8129\n",
            "Epoch 62/100\n",
            "938/938 [==============================] - 8s 9ms/step - loss: 0.0877 - accuracy: 0.8139 - val_loss: 0.0873 - val_accuracy: 0.8130\n",
            "Epoch 63/100\n",
            "938/938 [==============================] - 8s 9ms/step - loss: 0.0876 - accuracy: 0.8139 - val_loss: 0.0867 - val_accuracy: 0.8131\n",
            "Epoch 64/100\n",
            "938/938 [==============================] - 9s 9ms/step - loss: 0.0875 - accuracy: 0.8139 - val_loss: 0.0867 - val_accuracy: 0.8130\n",
            "Epoch 65/100\n",
            "938/938 [==============================] - 8s 9ms/step - loss: 0.0875 - accuracy: 0.8140 - val_loss: 0.0862 - val_accuracy: 0.8131\n",
            "Epoch 66/100\n",
            "938/938 [==============================] - 8s 9ms/step - loss: 0.0874 - accuracy: 0.8140 - val_loss: 0.0872 - val_accuracy: 0.8127\n",
            "Epoch 67/100\n",
            "938/938 [==============================] - 8s 9ms/step - loss: 0.0873 - accuracy: 0.8140 - val_loss: 0.0865 - val_accuracy: 0.8131\n",
            "Epoch 68/100\n",
            "938/938 [==============================] - 8s 9ms/step - loss: 0.0873 - accuracy: 0.8140 - val_loss: 0.0865 - val_accuracy: 0.8132\n",
            "Epoch 69/100\n",
            "938/938 [==============================] - 8s 9ms/step - loss: 0.0872 - accuracy: 0.8140 - val_loss: 0.0870 - val_accuracy: 0.8132\n",
            "Epoch 70/100\n",
            "938/938 [==============================] - 8s 9ms/step - loss: 0.0871 - accuracy: 0.8140 - val_loss: 0.0863 - val_accuracy: 0.8132\n",
            "Epoch 71/100\n",
            "938/938 [==============================] - 8s 9ms/step - loss: 0.0871 - accuracy: 0.8140 - val_loss: 0.0865 - val_accuracy: 0.8129\n",
            "Epoch 72/100\n",
            "938/938 [==============================] - 8s 9ms/step - loss: 0.0870 - accuracy: 0.8140 - val_loss: 0.0859 - val_accuracy: 0.8130\n",
            "Epoch 73/100\n",
            "938/938 [==============================] - 8s 9ms/step - loss: 0.0870 - accuracy: 0.8140 - val_loss: 0.0861 - val_accuracy: 0.8131\n",
            "Epoch 74/100\n",
            "938/938 [==============================] - 8s 9ms/step - loss: 0.0869 - accuracy: 0.8140 - val_loss: 0.0858 - val_accuracy: 0.8131\n",
            "Epoch 75/100\n",
            "938/938 [==============================] - 8s 9ms/step - loss: 0.0869 - accuracy: 0.8140 - val_loss: 0.0859 - val_accuracy: 0.8132\n",
            "Epoch 76/100\n",
            "938/938 [==============================] - 8s 9ms/step - loss: 0.0868 - accuracy: 0.8140 - val_loss: 0.0858 - val_accuracy: 0.8131\n",
            "Epoch 77/100\n",
            "938/938 [==============================] - 8s 9ms/step - loss: 0.0868 - accuracy: 0.8140 - val_loss: 0.0867 - val_accuracy: 0.8126\n",
            "Epoch 78/100\n",
            "938/938 [==============================] - 8s 9ms/step - loss: 0.0867 - accuracy: 0.8140 - val_loss: 0.0858 - val_accuracy: 0.8130\n",
            "Epoch 79/100\n",
            "938/938 [==============================] - 8s 9ms/step - loss: 0.0866 - accuracy: 0.8140 - val_loss: 0.0861 - val_accuracy: 0.8128\n",
            "Epoch 80/100\n",
            "938/938 [==============================] - 8s 9ms/step - loss: 0.0866 - accuracy: 0.8141 - val_loss: 0.0863 - val_accuracy: 0.8132\n",
            "Epoch 81/100\n",
            "938/938 [==============================] - 8s 9ms/step - loss: 0.0866 - accuracy: 0.8141 - val_loss: 0.0856 - val_accuracy: 0.8130\n",
            "Epoch 82/100\n",
            "938/938 [==============================] - 9s 9ms/step - loss: 0.0865 - accuracy: 0.8141 - val_loss: 0.0855 - val_accuracy: 0.8132\n",
            "Epoch 83/100\n",
            "938/938 [==============================] - 8s 9ms/step - loss: 0.0864 - accuracy: 0.8141 - val_loss: 0.0855 - val_accuracy: 0.8130\n",
            "Epoch 84/100\n",
            "938/938 [==============================] - 8s 9ms/step - loss: 0.0864 - accuracy: 0.8141 - val_loss: 0.0852 - val_accuracy: 0.8131\n",
            "Epoch 85/100\n",
            "938/938 [==============================] - 9s 10ms/step - loss: 0.0863 - accuracy: 0.8141 - val_loss: 0.0853 - val_accuracy: 0.8132\n",
            "Epoch 86/100\n",
            "938/938 [==============================] - 9s 9ms/step - loss: 0.0863 - accuracy: 0.8141 - val_loss: 0.0853 - val_accuracy: 0.8131\n",
            "Epoch 87/100\n",
            "938/938 [==============================] - 8s 9ms/step - loss: 0.0862 - accuracy: 0.8141 - val_loss: 0.0850 - val_accuracy: 0.8132\n",
            "Epoch 88/100\n",
            "938/938 [==============================] - 8s 9ms/step - loss: 0.0861 - accuracy: 0.8141 - val_loss: 0.0851 - val_accuracy: 0.8131\n",
            "Epoch 89/100\n",
            "938/938 [==============================] - 8s 9ms/step - loss: 0.0861 - accuracy: 0.8141 - val_loss: 0.0853 - val_accuracy: 0.8130\n",
            "Epoch 90/100\n",
            "938/938 [==============================] - 8s 9ms/step - loss: 0.0860 - accuracy: 0.8141 - val_loss: 0.0851 - val_accuracy: 0.8131\n",
            "Epoch 91/100\n",
            "938/938 [==============================] - 8s 9ms/step - loss: 0.0860 - accuracy: 0.8141 - val_loss: 0.0850 - val_accuracy: 0.8133\n",
            "Epoch 92/100\n",
            "938/938 [==============================] - 8s 9ms/step - loss: 0.0859 - accuracy: 0.8141 - val_loss: 0.0854 - val_accuracy: 0.8130\n",
            "Epoch 93/100\n",
            "938/938 [==============================] - 8s 9ms/step - loss: 0.0859 - accuracy: 0.8141 - val_loss: 0.0850 - val_accuracy: 0.8133\n",
            "Epoch 94/100\n",
            "938/938 [==============================] - 8s 9ms/step - loss: 0.0858 - accuracy: 0.8141 - val_loss: 0.0848 - val_accuracy: 0.8132\n",
            "Epoch 95/100\n",
            "938/938 [==============================] - 8s 9ms/step - loss: 0.0858 - accuracy: 0.8142 - val_loss: 0.0851 - val_accuracy: 0.8130\n",
            "Epoch 96/100\n",
            "938/938 [==============================] - 8s 9ms/step - loss: 0.0857 - accuracy: 0.8142 - val_loss: 0.0850 - val_accuracy: 0.8130\n",
            "Epoch 97/100\n",
            "938/938 [==============================] - 8s 9ms/step - loss: 0.0857 - accuracy: 0.8142 - val_loss: 0.0847 - val_accuracy: 0.8132\n",
            "Epoch 98/100\n",
            "938/938 [==============================] - 8s 9ms/step - loss: 0.0856 - accuracy: 0.8142 - val_loss: 0.0845 - val_accuracy: 0.8132\n",
            "Epoch 99/100\n",
            "938/938 [==============================] - 8s 9ms/step - loss: 0.0856 - accuracy: 0.8142 - val_loss: 0.0845 - val_accuracy: 0.8132\n",
            "Epoch 100/100\n",
            "938/938 [==============================] - 8s 9ms/step - loss: 0.0855 - accuracy: 0.8142 - val_loss: 0.0845 - val_accuracy: 0.8131\n"
          ],
          "name": "stdout"
        },
        {
          "output_type": "execute_result",
          "data": {
            "text/plain": [
              "<tensorflow.python.keras.callbacks.History at 0x7f5f105bdd68>"
            ]
          },
          "metadata": {
            "tags": []
          },
          "execution_count": 4
        }
      ]
    },
    {
      "cell_type": "code",
      "metadata": {
        "colab": {
          "base_uri": "https://localhost:8080/"
        },
        "id": "KxFLnGkNk4Kx",
        "outputId": "88dd6a05-8845-427b-ff26-f9d6940a5c73"
      },
      "source": [
        "loss, accuracy = autoencoder.evaluate(x_test, x_test, verbose=0)\n",
        "print (\"Loss : \", loss, \" : Accuracy : \", accuracy*100)"
      ],
      "execution_count": 5,
      "outputs": [
        {
          "output_type": "stream",
          "text": [
            "Loss :  0.08450548350811005  : Accuracy :  81.313556432724\n"
          ],
          "name": "stdout"
        }
      ]
    },
    {
      "cell_type": "code",
      "metadata": {
        "colab": {
          "base_uri": "https://localhost:8080/",
          "height": 202
        },
        "id": "EXft3yyqmJ6-",
        "outputId": "21850599-a276-42db-bba1-9cef31013a25"
      },
      "source": [
        "## Reconstructing Images \n",
        "num_images = 20\n",
        "np.random.seed(42)\n",
        "\n",
        "random_test_images = np.random.randint(x_test.shape[0], size=num_images)\n",
        "\n",
        "decoded_imgs = autoencoder.predict(x_test)\n",
        "\n",
        "for i, image in enumerate(random_test_images):\n",
        "  ## Plot Original Image \n",
        "  ax = plt.subplot(3, num_images, i+1)\n",
        "  plt.imshow(x_test[image].reshape(28, 28))\n",
        "  plt.gray()\n",
        "  ax.get_xaxis().set_visible(False)\n",
        "  ax.get_yaxis().set_visible(False)\n",
        "\n",
        "  ## Plot Predicted Image \n",
        "  ax = plt.subplot(3, num_images, 2*num_images + i + 1)\n",
        "  plt.imshow(decoded_imgs[image].reshape(28, 28))\n",
        "  plt.gray()\n",
        "  ax.get_xaxis().set_visible(False)\n",
        "  ax.get_yaxis().set_visible(False)\n",
        "\n",
        "plt.show()"
      ],
      "execution_count": 8,
      "outputs": [
        {
          "output_type": "display_data",
          "data": {
            "image/png": "[encoded data removed]",
            "text/plain": [
              "<Figure size 432x288 with 40 Axes>"
            ]
          },
          "metadata": {
            "tags": [],
            "needs_background": "light"
          }
        }
      ]
    },
    {
      "cell_type": "code",
      "metadata": {
        "id": "POr6MmyCoDqp"
      },
      "source": [
        "print('')"
      ],
      "execution_count": null,
      "outputs": []
    }
  ]
}