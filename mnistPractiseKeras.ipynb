{
  "nbformat": 4,
  "nbformat_minor": 0,
  "metadata": {
    "colab": {
      "name": "mnistPractiseKeras.ipynb",
      "provenance": []
    },
    "kernelspec": {
      "name": "python3",
      "display_name": "Python 3"
    }
  },
  "cells": [
    {
      "cell_type": "code",
      "metadata": {
        "id": "T5UKU9QTOdxJ"
      },
      "source": [
        "## This is simple practise on MNIST dataset using keras. \n",
        "## MNIST data has hand written numbers. \n",
        "## The task is to classify the image as number ranging from 0-9"
      ],
      "execution_count": null,
      "outputs": []
    },
    {
      "cell_type": "code",
      "metadata": {
        "id": "sDxujPYvTZWc"
      },
      "source": [
        "import numpy as np\n",
        "from tensorflow import keras\n",
        "from tensorflow.keras import layers"
      ],
      "execution_count": null,
      "outputs": []
    },
    {
      "cell_type": "code",
      "metadata": {
        "id": "l18Qv5EoTkR9"
      },
      "source": [
        "## Preparing the Data \n",
        "\n",
        "num_classes = 10\n",
        "input_shape = (28, 28, 1) ## Each image has 784 [28 * 28]\n",
        "\n",
        "## Split train and test data \n",
        "(x_train, y_train), (x_test, y_test) = keras.datasets.mnist.load_data()"
      ],
      "execution_count": null,
      "outputs": []
    },
    {
      "cell_type": "code",
      "metadata": {
        "colab": {
          "base_uri": "https://localhost:8080/"
        },
        "id": "JD8oNXB-T6bb",
        "outputId": "b4681abc-0b1c-4807-fe1a-5eafca5c7c4c"
      },
      "source": [
        "## Scale images to [0, 1] range \n",
        "x_train = x_train.astype('float32') / 255\n",
        "x_test = x_test.astype('float32') / 255\n",
        "print (x_test)"
      ],
      "execution_count": null,
      "outputs": [
        {
          "output_type": "stream",
          "text": [
            "[[[0. 0. 0. ... 0. 0. 0.]\n",
            "  [0. 0. 0. ... 0. 0. 0.]\n",
            "  [0. 0. 0. ... 0. 0. 0.]\n",
            "  ...\n",
            "  [0. 0. 0. ... 0. 0. 0.]\n",
            "  [0. 0. 0. ... 0. 0. 0.]\n",
            "  [0. 0. 0. ... 0. 0. 0.]]\n",
            "\n",
            " [[0. 0. 0. ... 0. 0. 0.]\n",
            "  [0. 0. 0. ... 0. 0. 0.]\n",
            "  [0. 0. 0. ... 0. 0. 0.]\n",
            "  ...\n",
            "  [0. 0. 0. ... 0. 0. 0.]\n",
            "  [0. 0. 0. ... 0. 0. 0.]\n",
            "  [0. 0. 0. ... 0. 0. 0.]]\n",
            "\n",
            " [[0. 0. 0. ... 0. 0. 0.]\n",
            "  [0. 0. 0. ... 0. 0. 0.]\n",
            "  [0. 0. 0. ... 0. 0. 0.]\n",
            "  ...\n",
            "  [0. 0. 0. ... 0. 0. 0.]\n",
            "  [0. 0. 0. ... 0. 0. 0.]\n",
            "  [0. 0. 0. ... 0. 0. 0.]]\n",
            "\n",
            " ...\n",
            "\n",
            " [[0. 0. 0. ... 0. 0. 0.]\n",
            "  [0. 0. 0. ... 0. 0. 0.]\n",
            "  [0. 0. 0. ... 0. 0. 0.]\n",
            "  ...\n",
            "  [0. 0. 0. ... 0. 0. 0.]\n",
            "  [0. 0. 0. ... 0. 0. 0.]\n",
            "  [0. 0. 0. ... 0. 0. 0.]]\n",
            "\n",
            " [[0. 0. 0. ... 0. 0. 0.]\n",
            "  [0. 0. 0. ... 0. 0. 0.]\n",
            "  [0. 0. 0. ... 0. 0. 0.]\n",
            "  ...\n",
            "  [0. 0. 0. ... 0. 0. 0.]\n",
            "  [0. 0. 0. ... 0. 0. 0.]\n",
            "  [0. 0. 0. ... 0. 0. 0.]]\n",
            "\n",
            " [[0. 0. 0. ... 0. 0. 0.]\n",
            "  [0. 0. 0. ... 0. 0. 0.]\n",
            "  [0. 0. 0. ... 0. 0. 0.]\n",
            "  ...\n",
            "  [0. 0. 0. ... 0. 0. 0.]\n",
            "  [0. 0. 0. ... 0. 0. 0.]\n",
            "  [0. 0. 0. ... 0. 0. 0.]]]\n"
          ],
          "name": "stdout"
        }
      ]
    },
    {
      "cell_type": "code",
      "metadata": {
        "colab": {
          "base_uri": "https://localhost:8080/"
        },
        "id": "EMWsNhnHUpL6",
        "outputId": "96ae828f-9cce-40fc-b0b9-1433a6c54437"
      },
      "source": [
        "x_train = np.expand_dims(x_train, -1) ## Expand the shape of an array. -1 is the axis . \n",
        "x_test = np.expand_dims(x_test, -1)\n",
        "\n",
        "print ('X Train Shape :', x_train.shape)\n",
        "print (x_train.shape[0], 'Train Samples')\n",
        "print (x_test.shape[0], \"Test Samples\")\n",
        "\n"
      ],
      "execution_count": null,
      "outputs": [
        {
          "output_type": "stream",
          "text": [
            "X Train Shape : (60000, 28, 28, 1)\n",
            "60000 Train Samples\n",
            "10000 Test Samples\n"
          ],
          "name": "stdout"
        }
      ]
    },
    {
      "cell_type": "code",
      "metadata": {
        "colab": {
          "base_uri": "https://localhost:8080/"
        },
        "id": "JSecwcDFU4Yo",
        "outputId": "b73a9a59-bb83-431d-d3df-92a364621b42"
      },
      "source": [
        "## convert Class vectors to Binary class matrices \n",
        "\n",
        "y_train = keras.utils.to_categorical(y_train, num_classes)\n",
        "y_test = keras.utils.to_categorical(y_test, num_classes)\n",
        "print (y_test[0])"
      ],
      "execution_count": null,
      "outputs": [
        {
          "output_type": "stream",
          "text": [
            "[0. 0. 0. 0. 0. 0. 0. 1. 0. 0.]\n"
          ],
          "name": "stdout"
        }
      ]
    },
    {
      "cell_type": "code",
      "metadata": {
        "colab": {
          "base_uri": "https://localhost:8080/"
        },
        "id": "FfulwfMRWHS1",
        "outputId": "696a7557-f21d-40d2-e86d-8d8f11c230b2"
      },
      "source": [
        "## Build the Model \n",
        "\n",
        "model = keras.Sequential([\n",
        "              keras.Input(shape=input_shape),\n",
        "              layers.Conv2D(32, kernel_size=(3,3), activation='relu'),\n",
        "              layers.MaxPooling2D(pool_size=(2,2)),\n",
        "              layers.Conv2D(64, kernel_size=(3,3), activation='relu'),\n",
        "              layers.MaxPooling2D(pool_size=(2,2)),\n",
        "              layers.Flatten(),\n",
        "              layers.Dropout(0.3),\n",
        "              layers.Dense(num_classes, activation='softmax'),\n",
        "])\n",
        "\n",
        "model.summary()"
      ],
      "execution_count": null,
      "outputs": [
        {
          "output_type": "stream",
          "text": [
            "Model: \"sequential_1\"\n",
            "_________________________________________________________________\n",
            "Layer (type)                 Output Shape              Param #   \n",
            "=================================================================\n",
            "conv2d_2 (Conv2D)            (None, 26, 26, 32)        320       \n",
            "_________________________________________________________________\n",
            "max_pooling2d_2 (MaxPooling2 (None, 13, 13, 32)        0         \n",
            "_________________________________________________________________\n",
            "conv2d_3 (Conv2D)            (None, 11, 11, 64)        18496     \n",
            "_________________________________________________________________\n",
            "max_pooling2d_3 (MaxPooling2 (None, 5, 5, 64)          0         \n",
            "_________________________________________________________________\n",
            "flatten_1 (Flatten)          (None, 1600)              0         \n",
            "_________________________________________________________________\n",
            "dropout_1 (Dropout)          (None, 1600)              0         \n",
            "_________________________________________________________________\n",
            "dense_1 (Dense)              (None, 10)                16010     \n",
            "=================================================================\n",
            "Total params: 34,826\n",
            "Trainable params: 34,826\n",
            "Non-trainable params: 0\n",
            "_________________________________________________________________\n"
          ],
          "name": "stdout"
        }
      ]
    },
    {
      "cell_type": "code",
      "metadata": {
        "colab": {
          "base_uri": "https://localhost:8080/"
        },
        "id": "qWAzs0plXIFJ",
        "outputId": "3632565e-3f2b-47fd-db9d-0d425b0d8ee4"
      },
      "source": [
        "## Train the model \n",
        "\n",
        "batch_size = 128\n",
        "epochs = 15\n",
        "\n",
        "model.compile(loss='categorical_crossentropy', optimizer='adam', metrics=['accuracy'])\n",
        "\n",
        "model.fit(x_train, y_train, batch_size=batch_size, epochs=epochs, validation_split=0.1)"
      ],
      "execution_count": null,
      "outputs": [
        {
          "output_type": "stream",
          "text": [
            "Epoch 1/15\n",
            "422/422 [==============================] - 35s 83ms/step - loss: 0.3289 - accuracy: 0.9008 - val_loss: 0.0868 - val_accuracy: 0.9763\n",
            "Epoch 2/15\n",
            "422/422 [==============================] - 35s 82ms/step - loss: 0.1008 - accuracy: 0.9692 - val_loss: 0.0647 - val_accuracy: 0.9835\n",
            "Epoch 3/15\n",
            "422/422 [==============================] - 35s 82ms/step - loss: 0.0775 - accuracy: 0.9759 - val_loss: 0.0537 - val_accuracy: 0.9857\n",
            "Epoch 4/15\n",
            "422/422 [==============================] - 34s 82ms/step - loss: 0.0641 - accuracy: 0.9804 - val_loss: 0.0507 - val_accuracy: 0.9863\n",
            "Epoch 5/15\n",
            "422/422 [==============================] - 34s 81ms/step - loss: 0.0556 - accuracy: 0.9825 - val_loss: 0.0453 - val_accuracy: 0.9882\n",
            "Epoch 6/15\n",
            "422/422 [==============================] - 35s 82ms/step - loss: 0.0487 - accuracy: 0.9845 - val_loss: 0.0369 - val_accuracy: 0.9900\n",
            "Epoch 7/15\n",
            "422/422 [==============================] - 35s 82ms/step - loss: 0.0449 - accuracy: 0.9852 - val_loss: 0.0362 - val_accuracy: 0.9893\n",
            "Epoch 8/15\n",
            "422/422 [==============================] - 35s 82ms/step - loss: 0.0404 - accuracy: 0.9871 - val_loss: 0.0364 - val_accuracy: 0.9903\n",
            "Epoch 9/15\n",
            "422/422 [==============================] - 35s 83ms/step - loss: 0.0379 - accuracy: 0.9880 - val_loss: 0.0368 - val_accuracy: 0.9897\n",
            "Epoch 10/15\n",
            "422/422 [==============================] - 35s 83ms/step - loss: 0.0345 - accuracy: 0.9887 - val_loss: 0.0326 - val_accuracy: 0.9908\n",
            "Epoch 11/15\n",
            "422/422 [==============================] - 35s 83ms/step - loss: 0.0316 - accuracy: 0.9894 - val_loss: 0.0340 - val_accuracy: 0.9912\n",
            "Epoch 12/15\n",
            "422/422 [==============================] - 35s 82ms/step - loss: 0.0297 - accuracy: 0.9906 - val_loss: 0.0342 - val_accuracy: 0.9902\n",
            "Epoch 13/15\n",
            "422/422 [==============================] - 35s 83ms/step - loss: 0.0281 - accuracy: 0.9906 - val_loss: 0.0368 - val_accuracy: 0.9912\n",
            "Epoch 14/15\n",
            "422/422 [==============================] - 35s 82ms/step - loss: 0.0255 - accuracy: 0.9917 - val_loss: 0.0349 - val_accuracy: 0.9907\n",
            "Epoch 15/15\n",
            "422/422 [==============================] - 35s 82ms/step - loss: 0.0242 - accuracy: 0.9920 - val_loss: 0.0324 - val_accuracy: 0.9920\n"
          ],
          "name": "stdout"
        },
        {
          "output_type": "execute_result",
          "data": {
            "text/plain": [
              "<tensorflow.python.keras.callbacks.History at 0x7f30b9ed2be0>"
            ]
          },
          "metadata": {
            "tags": []
          },
          "execution_count": 27
        }
      ]
    },
    {
      "cell_type": "code",
      "metadata": {
        "colab": {
          "base_uri": "https://localhost:8080/"
        },
        "id": "IdHvIg8kZkzg",
        "outputId": "ab1f726f-a59c-4c9a-bd06-8b8373516e61"
      },
      "source": [
        "## Evaluate the Trained model \n",
        "\n",
        "score = model.evaluate(x_test, y_test, verbose=0)\n",
        "print(\"Test loss:\", score[0])\n",
        "print(\"Test accuracy:\", score[1])"
      ],
      "execution_count": null,
      "outputs": [
        {
          "output_type": "stream",
          "text": [
            "Test loss: 0.024402454495429993\n",
            "Test accuracy: 0.9916999936103821\n"
          ],
          "name": "stdout"
        }
      ]
    },
    {
      "cell_type": "code",
      "metadata": {
        "id": "7iRSsyR5b8Xa"
      },
      "source": [
        ""
      ],
      "execution_count": null,
      "outputs": []
    }
  ]
}