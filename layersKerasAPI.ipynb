{
  "nbformat": 4,
  "nbformat_minor": 0,
  "metadata": {
    "colab": {
      "name": "layersKerasAPI.ipynb",
      "provenance": [],
      "authorship_tag": "ABX9TyNJJ9uKVBUFuKY651FxYIU/",
      "include_colab_link": true
    },
    "kernelspec": {
      "name": "python3",
      "display_name": "Python 3"
    }
  },
  "cells": [
    {
      "cell_type": "markdown",
      "metadata": {
        "id": "view-in-github",
        "colab_type": "text"
      },
      "source": [
        "<a href=\"https://colab.research.google.com/github/yashwanth-kokkanti/kerasPractise/blob/main/layersKerasAPI.ipynb\" target=\"_parent\"><img src=\"https://colab.research.google.com/assets/colab-badge.svg\" alt=\"Open In Colab\"/></a>"
      ]
    },
    {
      "cell_type": "code",
      "metadata": {
        "id": "cONPl8EEerVA"
      },
      "source": [
        "## This Notebook is to demonstarte Layers in Keras API \n"
      ],
      "execution_count": 1,
      "outputs": []
    },
    {
      "cell_type": "code",
      "metadata": {
        "id": "jsxqvRA-e0Zx"
      },
      "source": [
        "\n",
        "import tensorflow as tf \n",
        "\n",
        "from tensorflow.keras import layers\n",
        "from tensorflow.keras import activations\n",
        "\n",
        "\n",
        "model = tf.keras.Sequential()\n",
        "\n",
        "model.add(layers.Dense(64, activation=activations.relu)) \n",
        "\n",
        "## Above line is eqivalent to \n",
        "\n",
        "# model.add(layers.Dense(64))\n",
        "# model.add(layers.Activation(activations.relu))"
      ],
      "execution_count": 3,
      "outputs": []
    },
    {
      "cell_type": "code",
      "metadata": {
        "id": "RuiIR-KMf1_k"
      },
      "source": [
        "## Example of 'selu' activation : Scaled Exponential Linear Unit \n",
        "\n",
        "num_classes = 10  # 10-class problem\n",
        "\n",
        "model = tf.keras.Sequential()\n",
        "\n",
        "model.add(tf.keras.layers.Dense(64, kernel_initializer='lecun_normal', activation='selu'))\n",
        "model.add(tf.keras.layers.Dense(32, kernel_initializer='lecun_normal', activation='selu'))\n",
        "model.add(tf.keras.layers.Dense(16, kernel_initializer='lecun_normal', activation='selu'))\n",
        "\n",
        "model.add(tf.keras.layers.Dense(num_classes, activation='softmax'))\n",
        "\n"
      ],
      "execution_count": 7,
      "outputs": []
    },
    {
      "cell_type": "code",
      "metadata": {
        "id": "l6iFkTg_g7An"
      },
      "source": [
        "## Example of Elu \n",
        "\n",
        "\n",
        "model = tf.keras.Sequential()\n",
        "\n",
        "model.add(tf.keras.layers.Conv2D(32, (3, 3), activation='elu', input_shape=(28, 28, 1)))\n",
        "model.add(tf.keras.layers.MaxPooling2D((2, 2)))\n",
        "model.add(tf.keras.layers.Conv2D(64, (3, 3), activation='elu'))\n",
        "model.add(tf.keras.layers.MaxPooling2D((2, 2)))\n",
        "model.add(tf.keras.layers.Conv2D(64, (3, 3), activation='elu'))\n"
      ],
      "execution_count": 8,
      "outputs": []
    },
    {
      "cell_type": "code",
      "metadata": {
        "id": "nwvpBF8xhaeJ"
      },
      "source": [
        "## Initializers \n",
        "  ## RandomNormal \n",
        "\n",
        "initializer = tf.keras.initializers.RandomNormal(mean=0., stddev=1.)\n",
        "layer = tf.keras.layers.Dense(3, kernel_initializer=initializer)\n",
        "\n",
        "\n",
        "  ## Using Zeros\n",
        "\n",
        "initializer = tf.keras.initializers.Zeros()\n",
        "layer = tf.keras.layers.Dense(3, kernel_initializer=initializer)\n",
        "\n",
        " ## Glorot Normal \n",
        "\n",
        "initializer = tf.keras.initializers.GlorotNormal()\n",
        "layer = tf.keras.layers.Dense(3, kernel_initializer=initializer)"
      ],
      "execution_count": 9,
      "outputs": []
    },
    {
      "cell_type": "code",
      "metadata": {
        "id": "igd1QNnAja3_"
      },
      "source": [
        ""
      ],
      "execution_count": null,
      "outputs": []
    }
  ]
}